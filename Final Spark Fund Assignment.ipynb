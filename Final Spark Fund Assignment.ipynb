{
 "cells": [
  {
   "cell_type": "code",
   "execution_count": 1,
   "metadata": {},
   "outputs": [],
   "source": [
    "import pandas as pd\n",
    "import numpy as np\n",
    "import matplotlib.pyplot as plt\n",
    "import seaborn as sns\n",
    "%matplotlib inline\n",
    "sns.set_style(\"whitegrid\")\n",
    "\n",
    "# This code is to remove scientific notation for easier analysis\n",
    "pd.options.display.float_format = '{:.5f}'.format\n",
    "np.set_printoptions(precision=8, suppress= True)\n",
    "\n",
    "# This code is to remove the 'SettingWithCopyWarning' message.\n",
    "pd.set_option('mode.chained_assignment', None)"
   ]
  },
  {
   "cell_type": "code",
   "execution_count": 2,
   "metadata": {},
   "outputs": [],
   "source": [
    "# Reading IN data\n",
    "companies = pd.read_csv('companies.csv',encoding = \"ISO-8859-1\")\n",
    "rounds = pd.read_csv('rounds2.csv',encoding = \"ISO-8859-1\")\n",
    "mapping = pd.read_csv('mapping.csv')"
   ]
  },
  {
   "cell_type": "code",
   "execution_count": 3,
   "metadata": {},
   "outputs": [
    {
     "data": {
      "text/plain": [
       "66368"
      ]
     },
     "execution_count": 3,
     "metadata": {},
     "output_type": "execute_result"
    }
   ],
   "source": [
    "#No of unique companies in companies.csv\n",
    "len(companies['permalink'].unique())"
   ]
  },
  {
   "cell_type": "code",
   "execution_count": 4,
   "metadata": {},
   "outputs": [
    {
     "data": {
      "text/plain": [
       "90247"
      ]
     },
     "execution_count": 4,
     "metadata": {},
     "output_type": "execute_result"
    }
   ],
   "source": [
    "#No of unique companies in rounds2.csv\n",
    "len(rounds['company_permalink'].unique())"
   ]
  },
  {
   "cell_type": "code",
   "execution_count": 5,
   "metadata": {},
   "outputs": [
    {
     "name": "stdout",
     "output_type": "stream",
     "text": [
      "<class 'pandas.core.frame.DataFrame'>\n",
      "RangeIndex: 66368 entries, 0 to 66367\n",
      "Data columns (total 10 columns):\n",
      " #   Column         Non-Null Count  Dtype \n",
      "---  ------         --------------  ----- \n",
      " 0   permalink      66368 non-null  object\n",
      " 1   name           66367 non-null  object\n",
      " 2   homepage_url   61310 non-null  object\n",
      " 3   category_list  63220 non-null  object\n",
      " 4   status         66368 non-null  object\n",
      " 5   country_code   59410 non-null  object\n",
      " 6   state_code     57821 non-null  object\n",
      " 7   region         58338 non-null  object\n",
      " 8   city           58340 non-null  object\n",
      " 9   founded_at     51147 non-null  object\n",
      "dtypes: object(10)\n",
      "memory usage: 5.1+ MB\n",
      "<class 'pandas.core.frame.DataFrame'>\n",
      "RangeIndex: 114949 entries, 0 to 114948\n",
      "Data columns (total 6 columns):\n",
      " #   Column                   Non-Null Count   Dtype  \n",
      "---  ------                   --------------   -----  \n",
      " 0   company_permalink        114949 non-null  object \n",
      " 1   funding_round_permalink  114949 non-null  object \n",
      " 2   funding_round_type       114949 non-null  object \n",
      " 3   funding_round_code       31140 non-null   object \n",
      " 4   funded_at                114949 non-null  object \n",
      " 5   raised_amount_usd        94959 non-null   float64\n",
      "dtypes: float64(1), object(5)\n",
      "memory usage: 5.3+ MB\n"
     ]
    }
   ],
   "source": [
    "# Viewing our data attributes\n",
    "companies.info()\n",
    "rounds.info()"
   ]
  },
  {
   "cell_type": "code",
   "execution_count": 6,
   "metadata": {},
   "outputs": [
    {
     "data": {
      "text/plain": [
       "True     114942\n",
       "False         7\n",
       "Name: company_permalink, dtype: int64"
      ]
     },
     "execution_count": 6,
     "metadata": {},
     "output_type": "execute_result"
    }
   ],
   "source": [
    "# To check how many companies in Round2 that are not present in companies\n",
    "rounds['company_permalink'].str.lower().isin(companies['permalink'].str.lower()).value_counts()"
   ]
  },
  {
   "cell_type": "code",
   "execution_count": 7,
   "metadata": {},
   "outputs": [],
   "source": [
    "# Countries with english as their primary language taken from wiki\n",
    "english_speak = ['AUS', 'NZL', 'GBR', 'USA', 'ATG', 'BHS', 'BRB', 'BLZ', 'BWA', 'BDI', 'CMR', 'CAN', 'DMA', 'SWZ', 'FJI', 'GMB', 'GHA', 'GRD', 'GUY', 'IND', 'IRL', 'JAM', 'KEN', 'KIR', 'LSO', 'LBR', 'MWI', 'MLT', 'MHL', 'MUS', 'FSM', 'NAM', 'NRU', 'NGA', 'PAK', 'PLW', 'PNG', 'PHL', 'RWA', 'KNA', 'LCA', 'VCT', 'WSM', 'SYC', 'SLE', 'SGP', 'SLB', 'ZAF', 'SSD', 'SDN', 'TZA', 'TON', 'TTO', 'TUV', 'UGA', 'VUT', 'ZMB', 'ZWE']"
   ]
  },
  {
   "cell_type": "code",
   "execution_count": 8,
   "metadata": {},
   "outputs": [],
   "source": [
    "# change company_permalink to permalink in Rounds2 dataframe\n",
    "rounds.rename(columns={'company_permalink':'permalink'}, inplace =True )"
   ]
  },
  {
   "cell_type": "code",
   "execution_count": 9,
   "metadata": {},
   "outputs": [],
   "source": [
    "# make the permalink to lowercase for both df's so they can merge\n",
    "companies['permalink'] = companies['permalink'].str.lower()\n",
    "rounds['permalink'] = rounds['permalink'].str.lower()"
   ]
  },
  {
   "cell_type": "code",
   "execution_count": 10,
   "metadata": {},
   "outputs": [],
   "source": [
    "# Merging the 2 dataframes\n",
    "master_frame = pd.merge(companies, rounds , how='inner', on='permalink')"
   ]
  },
  {
   "cell_type": "code",
   "execution_count": 98,
   "metadata": {},
   "outputs": [
    {
     "name": "stdout",
     "output_type": "stream",
     "text": [
      "<class 'pandas.core.frame.DataFrame'>\n",
      "Int64Index: 62988 entries, 0 to 78687\n",
      "Data columns (total 7 columns):\n",
      " #   Column              Non-Null Count  Dtype  \n",
      "---  ------              --------------  -----  \n",
      " 0   permalink           62988 non-null  object \n",
      " 1   name                62988 non-null  object \n",
      " 2   country_code        62988 non-null  object \n",
      " 3   funding_round_type  62988 non-null  object \n",
      " 4   raised_amount_usd   62988 non-null  float64\n",
      " 5   main_sector         62988 non-null  object \n",
      " 6   in_range            62988 non-null  object \n",
      "dtypes: float64(1), object(6)\n",
      "memory usage: 3.8+ MB\n"
     ]
    }
   ],
   "source": [
    "# Number of entries in the master frame\n",
    "master_frame.info()"
   ]
  },
  {
   "cell_type": "code",
   "execution_count": 12,
   "metadata": {},
   "outputs": [],
   "source": [
    "# Adding a column to master_frame that indicates if a country's official languane is English\n",
    "master_frame['english'] = master_frame['country_code'].apply(lambda x: 'yes' if x in english_speak else \"no\")"
   ]
  },
  {
   "cell_type": "code",
   "execution_count": 13,
   "metadata": {},
   "outputs": [
    {
     "data": {
      "text/plain": [
       "False    106271\n",
       "True       8671\n",
       "Name: country_code, dtype: int64"
      ]
     },
     "execution_count": 13,
     "metadata": {},
     "output_type": "execute_result"
    }
   ],
   "source": [
    "# removing NA items from country code\n",
    "master_frame['country_code'].isnull().value_counts()"
   ]
  },
  {
   "cell_type": "code",
   "execution_count": 14,
   "metadata": {},
   "outputs": [],
   "source": [
    "master_frame = master_frame[~master_frame['country_code'].isnull()]"
   ]
  },
  {
   "cell_type": "code",
   "execution_count": 15,
   "metadata": {},
   "outputs": [],
   "source": [
    "# removing entries that are not from enlish speaking countries\n",
    "master_frame = master_frame[master_frame['english'] == 'yes']"
   ]
  },
  {
   "cell_type": "markdown",
   "metadata": {},
   "source": [
    "## <br><br><br><br>Mapping various sub-sectors to its main sector "
   ]
  },
  {
   "cell_type": "code",
   "execution_count": 16,
   "metadata": {},
   "outputs": [
    {
     "data": {
      "text/html": [
       "<div>\n",
       "<style scoped>\n",
       "    .dataframe tbody tr th:only-of-type {\n",
       "        vertical-align: middle;\n",
       "    }\n",
       "\n",
       "    .dataframe tbody tr th {\n",
       "        vertical-align: top;\n",
       "    }\n",
       "\n",
       "    .dataframe thead th {\n",
       "        text-align: right;\n",
       "    }\n",
       "</style>\n",
       "<table border=\"1\" class=\"dataframe\">\n",
       "  <thead>\n",
       "    <tr style=\"text-align: right;\">\n",
       "      <th></th>\n",
       "      <th>category_list</th>\n",
       "      <th>Automotive &amp; Sports</th>\n",
       "      <th>Blanks</th>\n",
       "      <th>Cleantech / Semiconductors</th>\n",
       "      <th>Entertainment</th>\n",
       "      <th>Health</th>\n",
       "      <th>Manufacturing</th>\n",
       "      <th>News, Search and Messaging</th>\n",
       "      <th>Others</th>\n",
       "      <th>Social, Finance, Analytics, Advertising</th>\n",
       "    </tr>\n",
       "  </thead>\n",
       "  <tbody>\n",
       "    <tr>\n",
       "      <th>0</th>\n",
       "      <td>NaN</td>\n",
       "      <td>0</td>\n",
       "      <td>1</td>\n",
       "      <td>0</td>\n",
       "      <td>0</td>\n",
       "      <td>0</td>\n",
       "      <td>0</td>\n",
       "      <td>0</td>\n",
       "      <td>0</td>\n",
       "      <td>0</td>\n",
       "    </tr>\n",
       "    <tr>\n",
       "      <th>1</th>\n",
       "      <td>3D</td>\n",
       "      <td>0</td>\n",
       "      <td>0</td>\n",
       "      <td>0</td>\n",
       "      <td>0</td>\n",
       "      <td>0</td>\n",
       "      <td>1</td>\n",
       "      <td>0</td>\n",
       "      <td>0</td>\n",
       "      <td>0</td>\n",
       "    </tr>\n",
       "    <tr>\n",
       "      <th>2</th>\n",
       "      <td>3D Printing</td>\n",
       "      <td>0</td>\n",
       "      <td>0</td>\n",
       "      <td>0</td>\n",
       "      <td>0</td>\n",
       "      <td>0</td>\n",
       "      <td>1</td>\n",
       "      <td>0</td>\n",
       "      <td>0</td>\n",
       "      <td>0</td>\n",
       "    </tr>\n",
       "    <tr>\n",
       "      <th>3</th>\n",
       "      <td>3D Technology</td>\n",
       "      <td>0</td>\n",
       "      <td>0</td>\n",
       "      <td>0</td>\n",
       "      <td>0</td>\n",
       "      <td>0</td>\n",
       "      <td>1</td>\n",
       "      <td>0</td>\n",
       "      <td>0</td>\n",
       "      <td>0</td>\n",
       "    </tr>\n",
       "    <tr>\n",
       "      <th>4</th>\n",
       "      <td>Accounting</td>\n",
       "      <td>0</td>\n",
       "      <td>0</td>\n",
       "      <td>0</td>\n",
       "      <td>0</td>\n",
       "      <td>0</td>\n",
       "      <td>0</td>\n",
       "      <td>0</td>\n",
       "      <td>0</td>\n",
       "      <td>1</td>\n",
       "    </tr>\n",
       "    <tr>\n",
       "      <th>...</th>\n",
       "      <td>...</td>\n",
       "      <td>...</td>\n",
       "      <td>...</td>\n",
       "      <td>...</td>\n",
       "      <td>...</td>\n",
       "      <td>...</td>\n",
       "      <td>...</td>\n",
       "      <td>...</td>\n",
       "      <td>...</td>\n",
       "      <td>...</td>\n",
       "    </tr>\n",
       "    <tr>\n",
       "      <th>683</th>\n",
       "      <td>Wholesale</td>\n",
       "      <td>0</td>\n",
       "      <td>0</td>\n",
       "      <td>0</td>\n",
       "      <td>0</td>\n",
       "      <td>0</td>\n",
       "      <td>0</td>\n",
       "      <td>0</td>\n",
       "      <td>1</td>\n",
       "      <td>0</td>\n",
       "    </tr>\n",
       "    <tr>\n",
       "      <th>684</th>\n",
       "      <td>Wine And Spirits</td>\n",
       "      <td>0</td>\n",
       "      <td>0</td>\n",
       "      <td>0</td>\n",
       "      <td>1</td>\n",
       "      <td>0</td>\n",
       "      <td>0</td>\n",
       "      <td>0</td>\n",
       "      <td>0</td>\n",
       "      <td>0</td>\n",
       "    </tr>\n",
       "    <tr>\n",
       "      <th>685</th>\n",
       "      <td>Wireless</td>\n",
       "      <td>0</td>\n",
       "      <td>0</td>\n",
       "      <td>0</td>\n",
       "      <td>1</td>\n",
       "      <td>0</td>\n",
       "      <td>0</td>\n",
       "      <td>0</td>\n",
       "      <td>0</td>\n",
       "      <td>0</td>\n",
       "    </tr>\n",
       "    <tr>\n",
       "      <th>686</th>\n",
       "      <td>Women</td>\n",
       "      <td>0</td>\n",
       "      <td>0</td>\n",
       "      <td>0</td>\n",
       "      <td>0</td>\n",
       "      <td>0</td>\n",
       "      <td>0</td>\n",
       "      <td>0</td>\n",
       "      <td>1</td>\n",
       "      <td>0</td>\n",
       "    </tr>\n",
       "    <tr>\n",
       "      <th>687</th>\n",
       "      <td>Young Adults</td>\n",
       "      <td>0</td>\n",
       "      <td>0</td>\n",
       "      <td>0</td>\n",
       "      <td>0</td>\n",
       "      <td>0</td>\n",
       "      <td>0</td>\n",
       "      <td>0</td>\n",
       "      <td>1</td>\n",
       "      <td>0</td>\n",
       "    </tr>\n",
       "  </tbody>\n",
       "</table>\n",
       "<p>688 rows × 10 columns</p>\n",
       "</div>"
      ],
      "text/plain": [
       "        category_list  Automotive & Sports  Blanks  \\\n",
       "0                 NaN                    0       1   \n",
       "1                  3D                    0       0   \n",
       "2         3D Printing                    0       0   \n",
       "3       3D Technology                    0       0   \n",
       "4          Accounting                    0       0   \n",
       "..                ...                  ...     ...   \n",
       "683         Wholesale                    0       0   \n",
       "684  Wine And Spirits                    0       0   \n",
       "685          Wireless                    0       0   \n",
       "686             Women                    0       0   \n",
       "687      Young Adults                    0       0   \n",
       "\n",
       "     Cleantech / Semiconductors  Entertainment  Health  Manufacturing  \\\n",
       "0                             0              0       0              0   \n",
       "1                             0              0       0              1   \n",
       "2                             0              0       0              1   \n",
       "3                             0              0       0              1   \n",
       "4                             0              0       0              0   \n",
       "..                          ...            ...     ...            ...   \n",
       "683                           0              0       0              0   \n",
       "684                           0              1       0              0   \n",
       "685                           0              1       0              0   \n",
       "686                           0              0       0              0   \n",
       "687                           0              0       0              0   \n",
       "\n",
       "     News, Search and Messaging  Others  \\\n",
       "0                             0       0   \n",
       "1                             0       0   \n",
       "2                             0       0   \n",
       "3                             0       0   \n",
       "4                             0       0   \n",
       "..                          ...     ...   \n",
       "683                           0       1   \n",
       "684                           0       0   \n",
       "685                           0       0   \n",
       "686                           0       1   \n",
       "687                           0       1   \n",
       "\n",
       "     Social, Finance, Analytics, Advertising  \n",
       "0                                          0  \n",
       "1                                          0  \n",
       "2                                          0  \n",
       "3                                          0  \n",
       "4                                          1  \n",
       "..                                       ...  \n",
       "683                                        0  \n",
       "684                                        0  \n",
       "685                                        0  \n",
       "686                                        0  \n",
       "687                                        0  \n",
       "\n",
       "[688 rows x 10 columns]"
      ]
     },
     "execution_count": 16,
     "metadata": {},
     "output_type": "execute_result"
    }
   ],
   "source": [
    "mapping"
   ]
  },
  {
   "cell_type": "code",
   "execution_count": 17,
   "metadata": {},
   "outputs": [],
   "source": [
    "#making catagory list lowercase on 'mapping' and 'master_frame'\n",
    "mapping['category_list'] = mapping['category_list'].str.lower()\n",
    "master_frame['category_list'] = master_frame['category_list'].str.lower()"
   ]
  },
  {
   "cell_type": "code",
   "execution_count": 18,
   "metadata": {},
   "outputs": [],
   "source": [
    "m = pd.get_dummies(mapping).idxmax(1)"
   ]
  },
  {
   "cell_type": "code",
   "execution_count": 19,
   "metadata": {},
   "outputs": [],
   "source": [
    "#converting this column name into a list. so it can later be added as a column \n",
    "k = []\n",
    "for l in m:\n",
    "    k.append(l)"
   ]
  },
  {
   "cell_type": "code",
   "execution_count": 20,
   "metadata": {},
   "outputs": [],
   "source": [
    "mapping['main_sector'] = k"
   ]
  },
  {
   "cell_type": "code",
   "execution_count": 21,
   "metadata": {},
   "outputs": [],
   "source": [
    "dk = mapping[['category_list', 'main_sector']]"
   ]
  },
  {
   "cell_type": "code",
   "execution_count": 22,
   "metadata": {},
   "outputs": [],
   "source": [
    "dk = dk.set_index('category_list')"
   ]
  },
  {
   "cell_type": "code",
   "execution_count": 23,
   "metadata": {},
   "outputs": [],
   "source": [
    "# removing null values from catagory list before mapping \n",
    "master_frame = master_frame[~master_frame['category_list'].isnull()]"
   ]
  },
  {
   "cell_type": "code",
   "execution_count": 24,
   "metadata": {},
   "outputs": [],
   "source": [
    "# Cleaning the catagory list column by removing addational entries\n",
    "master_frame['category_list'] = master_frame['category_list'].apply(lambda x : x if '|' not in x else x[0 : x.index('|')])"
   ]
  },
  {
   "cell_type": "code",
   "execution_count": 25,
   "metadata": {},
   "outputs": [],
   "source": [
    "# merging the mapped catagory list to df. This adds the main_sector sector column as well\n",
    "master_frame = pd.merge(master_frame, dk, on='category_list')"
   ]
  },
  {
   "cell_type": "code",
   "execution_count": 26,
   "metadata": {},
   "outputs": [],
   "source": [
    "# Creating column to indicate if investment in range of ours\n",
    "master_frame['in_range'] = master_frame['raised_amount_usd'].apply(lambda x: 'yes' if (x >= 5000000) &  (x <= 15000000) else 'no')"
   ]
  },
  {
   "cell_type": "code",
   "execution_count": 27,
   "metadata": {},
   "outputs": [
    {
     "data": {
      "text/html": [
       "<div>\n",
       "<style scoped>\n",
       "    .dataframe tbody tr th:only-of-type {\n",
       "        vertical-align: middle;\n",
       "    }\n",
       "\n",
       "    .dataframe tbody tr th {\n",
       "        vertical-align: top;\n",
       "    }\n",
       "\n",
       "    .dataframe thead th {\n",
       "        text-align: right;\n",
       "    }\n",
       "</style>\n",
       "<table border=\"1\" class=\"dataframe\">\n",
       "  <thead>\n",
       "    <tr style=\"text-align: right;\">\n",
       "      <th></th>\n",
       "      <th>permalink</th>\n",
       "      <th>name</th>\n",
       "      <th>homepage_url</th>\n",
       "      <th>category_list</th>\n",
       "      <th>status</th>\n",
       "      <th>country_code</th>\n",
       "      <th>state_code</th>\n",
       "      <th>region</th>\n",
       "      <th>city</th>\n",
       "      <th>founded_at</th>\n",
       "      <th>funding_round_permalink</th>\n",
       "      <th>funding_round_type</th>\n",
       "      <th>funding_round_code</th>\n",
       "      <th>funded_at</th>\n",
       "      <th>raised_amount_usd</th>\n",
       "      <th>english</th>\n",
       "      <th>main_sector</th>\n",
       "      <th>in_range</th>\n",
       "    </tr>\n",
       "  </thead>\n",
       "  <tbody>\n",
       "    <tr>\n",
       "      <th>0</th>\n",
       "      <td>/organization/-fame</td>\n",
       "      <td>#fame</td>\n",
       "      <td>http://livfame.com</td>\n",
       "      <td>media</td>\n",
       "      <td>operating</td>\n",
       "      <td>IND</td>\n",
       "      <td>16</td>\n",
       "      <td>Mumbai</td>\n",
       "      <td>Mumbai</td>\n",
       "      <td>NaN</td>\n",
       "      <td>/funding-round/9a01d05418af9f794eebff7ace91f638</td>\n",
       "      <td>venture</td>\n",
       "      <td>B</td>\n",
       "      <td>05-01-2015</td>\n",
       "      <td>10000000.00000</td>\n",
       "      <td>yes</td>\n",
       "      <td>Entertainment</td>\n",
       "      <td>yes</td>\n",
       "    </tr>\n",
       "    <tr>\n",
       "      <th>1</th>\n",
       "      <td>/organization/90min</td>\n",
       "      <td>90min</td>\n",
       "      <td>http://www.90min.com</td>\n",
       "      <td>media</td>\n",
       "      <td>operating</td>\n",
       "      <td>GBR</td>\n",
       "      <td>H9</td>\n",
       "      <td>London</td>\n",
       "      <td>London</td>\n",
       "      <td>01-01-2011</td>\n",
       "      <td>/funding-round/21a2cbf6f2fb2a1c2a61e04bf930dfe6</td>\n",
       "      <td>venture</td>\n",
       "      <td>NaN</td>\n",
       "      <td>06-10-2015</td>\n",
       "      <td>15000000.00000</td>\n",
       "      <td>yes</td>\n",
       "      <td>Entertainment</td>\n",
       "      <td>yes</td>\n",
       "    </tr>\n",
       "    <tr>\n",
       "      <th>2</th>\n",
       "      <td>/organization/90min</td>\n",
       "      <td>90min</td>\n",
       "      <td>http://www.90min.com</td>\n",
       "      <td>media</td>\n",
       "      <td>operating</td>\n",
       "      <td>GBR</td>\n",
       "      <td>H9</td>\n",
       "      <td>London</td>\n",
       "      <td>London</td>\n",
       "      <td>01-01-2011</td>\n",
       "      <td>/funding-round/bd626ed022f5c66574b1afe234f3c90d</td>\n",
       "      <td>venture</td>\n",
       "      <td>NaN</td>\n",
       "      <td>07-05-2013</td>\n",
       "      <td>5800000.00000</td>\n",
       "      <td>yes</td>\n",
       "      <td>Entertainment</td>\n",
       "      <td>yes</td>\n",
       "    </tr>\n",
       "    <tr>\n",
       "      <th>3</th>\n",
       "      <td>/organization/90min</td>\n",
       "      <td>90min</td>\n",
       "      <td>http://www.90min.com</td>\n",
       "      <td>media</td>\n",
       "      <td>operating</td>\n",
       "      <td>GBR</td>\n",
       "      <td>H9</td>\n",
       "      <td>London</td>\n",
       "      <td>London</td>\n",
       "      <td>01-01-2011</td>\n",
       "      <td>/funding-round/fd4b15e8c97ee2ffc0acccdbe1a98810</td>\n",
       "      <td>venture</td>\n",
       "      <td>NaN</td>\n",
       "      <td>26-03-2014</td>\n",
       "      <td>18000000.00000</td>\n",
       "      <td>yes</td>\n",
       "      <td>Entertainment</td>\n",
       "      <td>no</td>\n",
       "    </tr>\n",
       "    <tr>\n",
       "      <th>4</th>\n",
       "      <td>/organization/a-b-productions</td>\n",
       "      <td>A.B Productions</td>\n",
       "      <td>NaN</td>\n",
       "      <td>media</td>\n",
       "      <td>operating</td>\n",
       "      <td>USA</td>\n",
       "      <td>CA</td>\n",
       "      <td>Los Angeles</td>\n",
       "      <td>Los Angeles</td>\n",
       "      <td>11-12-2012</td>\n",
       "      <td>/funding-round/23bab180ab73f0dcc3f555bebdf89ade</td>\n",
       "      <td>debt_financing</td>\n",
       "      <td>NaN</td>\n",
       "      <td>21-01-2014</td>\n",
       "      <td>nan</td>\n",
       "      <td>yes</td>\n",
       "      <td>Entertainment</td>\n",
       "      <td>no</td>\n",
       "    </tr>\n",
       "    <tr>\n",
       "      <th>...</th>\n",
       "      <td>...</td>\n",
       "      <td>...</td>\n",
       "      <td>...</td>\n",
       "      <td>...</td>\n",
       "      <td>...</td>\n",
       "      <td>...</td>\n",
       "      <td>...</td>\n",
       "      <td>...</td>\n",
       "      <td>...</td>\n",
       "      <td>...</td>\n",
       "      <td>...</td>\n",
       "      <td>...</td>\n",
       "      <td>...</td>\n",
       "      <td>...</td>\n",
       "      <td>...</td>\n",
       "      <td>...</td>\n",
       "      <td>...</td>\n",
       "      <td>...</td>\n",
       "    </tr>\n",
       "    <tr>\n",
       "      <th>78683</th>\n",
       "      <td>/organization/wattblock</td>\n",
       "      <td>Wattblock</td>\n",
       "      <td>http://wattblock.com.au</td>\n",
       "      <td>building owners</td>\n",
       "      <td>operating</td>\n",
       "      <td>AUS</td>\n",
       "      <td>2</td>\n",
       "      <td>Sydney</td>\n",
       "      <td>Sydney</td>\n",
       "      <td>NaN</td>\n",
       "      <td>/funding-round/6807e154df32ca8c1b7c141f313ff318</td>\n",
       "      <td>seed</td>\n",
       "      <td>NaN</td>\n",
       "      <td>26-05-2015</td>\n",
       "      <td>nan</td>\n",
       "      <td>yes</td>\n",
       "      <td>News, Search and Messaging</td>\n",
       "      <td>no</td>\n",
       "    </tr>\n",
       "    <tr>\n",
       "      <th>78684</th>\n",
       "      <td>/organization/wattblock</td>\n",
       "      <td>Wattblock</td>\n",
       "      <td>http://wattblock.com.au</td>\n",
       "      <td>building owners</td>\n",
       "      <td>operating</td>\n",
       "      <td>AUS</td>\n",
       "      <td>2</td>\n",
       "      <td>Sydney</td>\n",
       "      <td>Sydney</td>\n",
       "      <td>NaN</td>\n",
       "      <td>/funding-round/7ad52a06fc0281282f74ffc36badfe0b</td>\n",
       "      <td>seed</td>\n",
       "      <td>NaN</td>\n",
       "      <td>29-10-2014</td>\n",
       "      <td>48484.00000</td>\n",
       "      <td>yes</td>\n",
       "      <td>News, Search and Messaging</td>\n",
       "      <td>no</td>\n",
       "    </tr>\n",
       "    <tr>\n",
       "      <th>78685</th>\n",
       "      <td>/organization/wing-ma-am</td>\n",
       "      <td>Wing Ma'am</td>\n",
       "      <td>http://www.wingmaam.com/</td>\n",
       "      <td>gay &amp; lesbian</td>\n",
       "      <td>operating</td>\n",
       "      <td>USA</td>\n",
       "      <td>PA</td>\n",
       "      <td>Pittsburgh</td>\n",
       "      <td>Pittsburgh</td>\n",
       "      <td>07-10-2012</td>\n",
       "      <td>/funding-round/017fef93620f71e5b884435972b440e8</td>\n",
       "      <td>seed</td>\n",
       "      <td>NaN</td>\n",
       "      <td>17-04-2014</td>\n",
       "      <td>nan</td>\n",
       "      <td>yes</td>\n",
       "      <td>Others</td>\n",
       "      <td>no</td>\n",
       "    </tr>\n",
       "    <tr>\n",
       "      <th>78686</th>\n",
       "      <td>/organization/wing-ma-am</td>\n",
       "      <td>Wing Ma'am</td>\n",
       "      <td>http://www.wingmaam.com/</td>\n",
       "      <td>gay &amp; lesbian</td>\n",
       "      <td>operating</td>\n",
       "      <td>USA</td>\n",
       "      <td>PA</td>\n",
       "      <td>Pittsburgh</td>\n",
       "      <td>Pittsburgh</td>\n",
       "      <td>07-10-2012</td>\n",
       "      <td>/funding-round/13d72bd46f529ee00ff699254d9d1c16</td>\n",
       "      <td>seed</td>\n",
       "      <td>NaN</td>\n",
       "      <td>09-06-2013</td>\n",
       "      <td>25000.00000</td>\n",
       "      <td>yes</td>\n",
       "      <td>Others</td>\n",
       "      <td>no</td>\n",
       "    </tr>\n",
       "    <tr>\n",
       "      <th>78687</th>\n",
       "      <td>/organization/wiselike</td>\n",
       "      <td>Wiselike</td>\n",
       "      <td>https://wiselike.com/</td>\n",
       "      <td>q&amp;a</td>\n",
       "      <td>operating</td>\n",
       "      <td>USA</td>\n",
       "      <td>CA</td>\n",
       "      <td>SF Bay Area</td>\n",
       "      <td>San Francisco</td>\n",
       "      <td>NaN</td>\n",
       "      <td>/funding-round/e313727defb87ca1dcb8ec9f6d091e47</td>\n",
       "      <td>seed</td>\n",
       "      <td>NaN</td>\n",
       "      <td>31-08-2015</td>\n",
       "      <td>1250000.00000</td>\n",
       "      <td>yes</td>\n",
       "      <td>News, Search and Messaging</td>\n",
       "      <td>no</td>\n",
       "    </tr>\n",
       "  </tbody>\n",
       "</table>\n",
       "<p>78688 rows × 18 columns</p>\n",
       "</div>"
      ],
      "text/plain": [
       "                           permalink             name  \\\n",
       "0                /organization/-fame            #fame   \n",
       "1                /organization/90min            90min   \n",
       "2                /organization/90min            90min   \n",
       "3                /organization/90min            90min   \n",
       "4      /organization/a-b-productions  A.B Productions   \n",
       "...                              ...              ...   \n",
       "78683        /organization/wattblock        Wattblock   \n",
       "78684        /organization/wattblock        Wattblock   \n",
       "78685       /organization/wing-ma-am       Wing Ma'am   \n",
       "78686       /organization/wing-ma-am       Wing Ma'am   \n",
       "78687         /organization/wiselike         Wiselike   \n",
       "\n",
       "                   homepage_url    category_list     status country_code  \\\n",
       "0            http://livfame.com            media  operating          IND   \n",
       "1          http://www.90min.com            media  operating          GBR   \n",
       "2          http://www.90min.com            media  operating          GBR   \n",
       "3          http://www.90min.com            media  operating          GBR   \n",
       "4                           NaN            media  operating          USA   \n",
       "...                         ...              ...        ...          ...   \n",
       "78683   http://wattblock.com.au  building owners  operating          AUS   \n",
       "78684   http://wattblock.com.au  building owners  operating          AUS   \n",
       "78685  http://www.wingmaam.com/    gay & lesbian  operating          USA   \n",
       "78686  http://www.wingmaam.com/    gay & lesbian  operating          USA   \n",
       "78687     https://wiselike.com/              q&a  operating          USA   \n",
       "\n",
       "      state_code       region           city  founded_at  \\\n",
       "0             16       Mumbai         Mumbai         NaN   \n",
       "1             H9       London         London  01-01-2011   \n",
       "2             H9       London         London  01-01-2011   \n",
       "3             H9       London         London  01-01-2011   \n",
       "4             CA  Los Angeles    Los Angeles  11-12-2012   \n",
       "...          ...          ...            ...         ...   \n",
       "78683          2       Sydney         Sydney         NaN   \n",
       "78684          2       Sydney         Sydney         NaN   \n",
       "78685         PA   Pittsburgh     Pittsburgh  07-10-2012   \n",
       "78686         PA   Pittsburgh     Pittsburgh  07-10-2012   \n",
       "78687         CA  SF Bay Area  San Francisco         NaN   \n",
       "\n",
       "                               funding_round_permalink funding_round_type  \\\n",
       "0      /funding-round/9a01d05418af9f794eebff7ace91f638            venture   \n",
       "1      /funding-round/21a2cbf6f2fb2a1c2a61e04bf930dfe6            venture   \n",
       "2      /funding-round/bd626ed022f5c66574b1afe234f3c90d            venture   \n",
       "3      /funding-round/fd4b15e8c97ee2ffc0acccdbe1a98810            venture   \n",
       "4      /funding-round/23bab180ab73f0dcc3f555bebdf89ade     debt_financing   \n",
       "...                                                ...                ...   \n",
       "78683  /funding-round/6807e154df32ca8c1b7c141f313ff318               seed   \n",
       "78684  /funding-round/7ad52a06fc0281282f74ffc36badfe0b               seed   \n",
       "78685  /funding-round/017fef93620f71e5b884435972b440e8               seed   \n",
       "78686  /funding-round/13d72bd46f529ee00ff699254d9d1c16               seed   \n",
       "78687  /funding-round/e313727defb87ca1dcb8ec9f6d091e47               seed   \n",
       "\n",
       "      funding_round_code   funded_at  raised_amount_usd english  \\\n",
       "0                      B  05-01-2015     10000000.00000     yes   \n",
       "1                    NaN  06-10-2015     15000000.00000     yes   \n",
       "2                    NaN  07-05-2013      5800000.00000     yes   \n",
       "3                    NaN  26-03-2014     18000000.00000     yes   \n",
       "4                    NaN  21-01-2014                nan     yes   \n",
       "...                  ...         ...                ...     ...   \n",
       "78683                NaN  26-05-2015                nan     yes   \n",
       "78684                NaN  29-10-2014        48484.00000     yes   \n",
       "78685                NaN  17-04-2014                nan     yes   \n",
       "78686                NaN  09-06-2013        25000.00000     yes   \n",
       "78687                NaN  31-08-2015      1250000.00000     yes   \n",
       "\n",
       "                      main_sector in_range  \n",
       "0                   Entertainment      yes  \n",
       "1                   Entertainment      yes  \n",
       "2                   Entertainment      yes  \n",
       "3                   Entertainment       no  \n",
       "4                   Entertainment       no  \n",
       "...                           ...      ...  \n",
       "78683  News, Search and Messaging       no  \n",
       "78684  News, Search and Messaging       no  \n",
       "78685                      Others       no  \n",
       "78686                      Others       no  \n",
       "78687  News, Search and Messaging       no  \n",
       "\n",
       "[78688 rows x 18 columns]"
      ]
     },
     "execution_count": 27,
     "metadata": {},
     "output_type": "execute_result"
    }
   ],
   "source": [
    "master_frame"
   ]
  },
  {
   "cell_type": "markdown",
   "metadata": {},
   "source": [
    "## <br><br><br><br> Cleaning and removing columns that wont be used"
   ]
  },
  {
   "cell_type": "code",
   "execution_count": 28,
   "metadata": {},
   "outputs": [],
   "source": [
    "# removed null of ['raised_amount_usd']. Since our final decision will depend on this column, will remove NA instead of impute.\n",
    "master_frame = master_frame[~master_frame['raised_amount_usd'].isnull()]"
   ]
  },
  {
   "cell_type": "code",
   "execution_count": 29,
   "metadata": {},
   "outputs": [],
   "source": [
    "# removing values where 'raised_amount_usd' is 0\n",
    "master_frame = master_frame[master_frame['raised_amount_usd'] != 0]"
   ]
  },
  {
   "cell_type": "code",
   "execution_count": 30,
   "metadata": {},
   "outputs": [],
   "source": [
    "#droping [funding type code]\n",
    "master_frame = master_frame.drop('funding_round_code', axis = 1)"
   ]
  },
  {
   "cell_type": "code",
   "execution_count": 31,
   "metadata": {},
   "outputs": [],
   "source": [
    "# droping the column ['english']\n",
    "master_frame = master_frame.drop('english', axis = 1)"
   ]
  },
  {
   "cell_type": "code",
   "execution_count": 32,
   "metadata": {},
   "outputs": [],
   "source": [
    "# removing companies where the column Status == 'closed'\n",
    "master_frame = master_frame[master_frame['status'] != 'closed']"
   ]
  },
  {
   "cell_type": "code",
   "execution_count": 33,
   "metadata": {},
   "outputs": [],
   "source": [
    "# droping the column ['homepage_url']\n",
    "master_frame = master_frame.drop('homepage_url', axis = 1)"
   ]
  },
  {
   "cell_type": "code",
   "execution_count": 34,
   "metadata": {},
   "outputs": [],
   "source": [
    "# droping ['status']\n",
    "master_frame = master_frame.drop('status', axis = 1)"
   ]
  },
  {
   "cell_type": "code",
   "execution_count": 35,
   "metadata": {},
   "outputs": [],
   "source": [
    "# droping ['region']\n",
    "master_frame.drop('region', axis = 1, inplace = True)"
   ]
  },
  {
   "cell_type": "code",
   "execution_count": 36,
   "metadata": {},
   "outputs": [],
   "source": [
    "# droping ['state_code']\n",
    "master_frame.drop('state_code', axis = 1, inplace = True)"
   ]
  },
  {
   "cell_type": "code",
   "execution_count": 37,
   "metadata": {},
   "outputs": [],
   "source": [
    "# droping ['funding_round_permalink']\n",
    "master_frame.drop('funding_round_permalink', axis = 1, inplace = True)"
   ]
  },
  {
   "cell_type": "code",
   "execution_count": 38,
   "metadata": {},
   "outputs": [],
   "source": [
    "# droping ['category_list']\n",
    "master_frame.drop('category_list', axis = 1, inplace = True)"
   ]
  },
  {
   "cell_type": "code",
   "execution_count": 39,
   "metadata": {},
   "outputs": [],
   "source": [
    "# droping ['founded_at']\n",
    "master_frame.drop('founded_at', axis = 1, inplace = True)"
   ]
  },
  {
   "cell_type": "code",
   "execution_count": 40,
   "metadata": {},
   "outputs": [],
   "source": [
    "# droping ['funded_at']\n",
    "master_frame.drop('funded_at', axis = 1, inplace = True)"
   ]
  },
  {
   "cell_type": "code",
   "execution_count": 41,
   "metadata": {},
   "outputs": [],
   "source": [
    "# droping ['city']\n",
    "master_frame.drop('city', axis = 1, inplace = True)"
   ]
  },
  {
   "cell_type": "code",
   "execution_count": 42,
   "metadata": {},
   "outputs": [
    {
     "name": "stdout",
     "output_type": "stream",
     "text": [
      "<class 'pandas.core.frame.DataFrame'>\n",
      "Int64Index: 62988 entries, 0 to 78687\n",
      "Data columns (total 7 columns):\n",
      " #   Column              Non-Null Count  Dtype  \n",
      "---  ------              --------------  -----  \n",
      " 0   permalink           62988 non-null  object \n",
      " 1   name                62988 non-null  object \n",
      " 2   country_code        62988 non-null  object \n",
      " 3   funding_round_type  62988 non-null  object \n",
      " 4   raised_amount_usd   62988 non-null  float64\n",
      " 5   main_sector         62988 non-null  object \n",
      " 6   in_range            62988 non-null  object \n",
      "dtypes: float64(1), object(6)\n",
      "memory usage: 3.8+ MB\n"
     ]
    }
   ],
   "source": [
    "master_frame.info()"
   ]
  },
  {
   "cell_type": "code",
   "execution_count": 43,
   "metadata": {},
   "outputs": [
    {
     "data": {
      "text/html": [
       "<div>\n",
       "<style scoped>\n",
       "    .dataframe tbody tr th:only-of-type {\n",
       "        vertical-align: middle;\n",
       "    }\n",
       "\n",
       "    .dataframe tbody tr th {\n",
       "        vertical-align: top;\n",
       "    }\n",
       "\n",
       "    .dataframe thead th {\n",
       "        text-align: right;\n",
       "    }\n",
       "</style>\n",
       "<table border=\"1\" class=\"dataframe\">\n",
       "  <thead>\n",
       "    <tr style=\"text-align: right;\">\n",
       "      <th></th>\n",
       "      <th>permalink</th>\n",
       "      <th>name</th>\n",
       "      <th>country_code</th>\n",
       "      <th>funding_round_type</th>\n",
       "      <th>raised_amount_usd</th>\n",
       "      <th>main_sector</th>\n",
       "      <th>in_range</th>\n",
       "    </tr>\n",
       "  </thead>\n",
       "  <tbody>\n",
       "    <tr>\n",
       "      <th>0</th>\n",
       "      <td>/organization/-fame</td>\n",
       "      <td>#fame</td>\n",
       "      <td>IND</td>\n",
       "      <td>venture</td>\n",
       "      <td>10000000.00000</td>\n",
       "      <td>Entertainment</td>\n",
       "      <td>yes</td>\n",
       "    </tr>\n",
       "    <tr>\n",
       "      <th>1</th>\n",
       "      <td>/organization/90min</td>\n",
       "      <td>90min</td>\n",
       "      <td>GBR</td>\n",
       "      <td>venture</td>\n",
       "      <td>15000000.00000</td>\n",
       "      <td>Entertainment</td>\n",
       "      <td>yes</td>\n",
       "    </tr>\n",
       "    <tr>\n",
       "      <th>2</th>\n",
       "      <td>/organization/90min</td>\n",
       "      <td>90min</td>\n",
       "      <td>GBR</td>\n",
       "      <td>venture</td>\n",
       "      <td>5800000.00000</td>\n",
       "      <td>Entertainment</td>\n",
       "      <td>yes</td>\n",
       "    </tr>\n",
       "    <tr>\n",
       "      <th>3</th>\n",
       "      <td>/organization/90min</td>\n",
       "      <td>90min</td>\n",
       "      <td>GBR</td>\n",
       "      <td>venture</td>\n",
       "      <td>18000000.00000</td>\n",
       "      <td>Entertainment</td>\n",
       "      <td>no</td>\n",
       "    </tr>\n",
       "    <tr>\n",
       "      <th>5</th>\n",
       "      <td>/organization/a-dance-for-me</td>\n",
       "      <td>A Dance for Me</td>\n",
       "      <td>USA</td>\n",
       "      <td>equity_crowdfunding</td>\n",
       "      <td>1090000.00000</td>\n",
       "      <td>Entertainment</td>\n",
       "      <td>no</td>\n",
       "    </tr>\n",
       "    <tr>\n",
       "      <th>...</th>\n",
       "      <td>...</td>\n",
       "      <td>...</td>\n",
       "      <td>...</td>\n",
       "      <td>...</td>\n",
       "      <td>...</td>\n",
       "      <td>...</td>\n",
       "      <td>...</td>\n",
       "    </tr>\n",
       "    <tr>\n",
       "      <th>78678</th>\n",
       "      <td>/organization/welink</td>\n",
       "      <td>WeLink</td>\n",
       "      <td>USA</td>\n",
       "      <td>seed</td>\n",
       "      <td>20000.00000</td>\n",
       "      <td>Social, Finance, Analytics, Advertising</td>\n",
       "      <td>no</td>\n",
       "    </tr>\n",
       "    <tr>\n",
       "      <th>78682</th>\n",
       "      <td>/organization/user-interface</td>\n",
       "      <td>User Interface</td>\n",
       "      <td>USA</td>\n",
       "      <td>venture</td>\n",
       "      <td>8250000.00000</td>\n",
       "      <td>Others</td>\n",
       "      <td>yes</td>\n",
       "    </tr>\n",
       "    <tr>\n",
       "      <th>78684</th>\n",
       "      <td>/organization/wattblock</td>\n",
       "      <td>Wattblock</td>\n",
       "      <td>AUS</td>\n",
       "      <td>seed</td>\n",
       "      <td>48484.00000</td>\n",
       "      <td>News, Search and Messaging</td>\n",
       "      <td>no</td>\n",
       "    </tr>\n",
       "    <tr>\n",
       "      <th>78686</th>\n",
       "      <td>/organization/wing-ma-am</td>\n",
       "      <td>Wing Ma'am</td>\n",
       "      <td>USA</td>\n",
       "      <td>seed</td>\n",
       "      <td>25000.00000</td>\n",
       "      <td>Others</td>\n",
       "      <td>no</td>\n",
       "    </tr>\n",
       "    <tr>\n",
       "      <th>78687</th>\n",
       "      <td>/organization/wiselike</td>\n",
       "      <td>Wiselike</td>\n",
       "      <td>USA</td>\n",
       "      <td>seed</td>\n",
       "      <td>1250000.00000</td>\n",
       "      <td>News, Search and Messaging</td>\n",
       "      <td>no</td>\n",
       "    </tr>\n",
       "  </tbody>\n",
       "</table>\n",
       "<p>62988 rows × 7 columns</p>\n",
       "</div>"
      ],
      "text/plain": [
       "                          permalink            name country_code  \\\n",
       "0               /organization/-fame           #fame          IND   \n",
       "1               /organization/90min           90min          GBR   \n",
       "2               /organization/90min           90min          GBR   \n",
       "3               /organization/90min           90min          GBR   \n",
       "5      /organization/a-dance-for-me  A Dance for Me          USA   \n",
       "...                             ...             ...          ...   \n",
       "78678          /organization/welink          WeLink          USA   \n",
       "78682  /organization/user-interface  User Interface          USA   \n",
       "78684       /organization/wattblock       Wattblock          AUS   \n",
       "78686      /organization/wing-ma-am      Wing Ma'am          USA   \n",
       "78687        /organization/wiselike        Wiselike          USA   \n",
       "\n",
       "        funding_round_type  raised_amount_usd  \\\n",
       "0                  venture     10000000.00000   \n",
       "1                  venture     15000000.00000   \n",
       "2                  venture      5800000.00000   \n",
       "3                  venture     18000000.00000   \n",
       "5      equity_crowdfunding      1090000.00000   \n",
       "...                    ...                ...   \n",
       "78678                 seed        20000.00000   \n",
       "78682              venture      8250000.00000   \n",
       "78684                 seed        48484.00000   \n",
       "78686                 seed        25000.00000   \n",
       "78687                 seed      1250000.00000   \n",
       "\n",
       "                                   main_sector in_range  \n",
       "0                                Entertainment      yes  \n",
       "1                                Entertainment      yes  \n",
       "2                                Entertainment      yes  \n",
       "3                                Entertainment       no  \n",
       "5                                Entertainment       no  \n",
       "...                                        ...      ...  \n",
       "78678  Social, Finance, Analytics, Advertising       no  \n",
       "78682                                   Others      yes  \n",
       "78684               News, Search and Messaging       no  \n",
       "78686                                   Others       no  \n",
       "78687               News, Search and Messaging       no  \n",
       "\n",
       "[62988 rows x 7 columns]"
      ]
     },
     "execution_count": 43,
     "metadata": {},
     "output_type": "execute_result"
    }
   ],
   "source": [
    "master_frame"
   ]
  },
  {
   "cell_type": "markdown",
   "metadata": {},
   "source": [
    "# <br><br><br><br> Investment Type Analysis"
   ]
  },
  {
   "cell_type": "markdown",
   "metadata": {},
   "source": [
    "## Most representative of central tendency of different investment types"
   ]
  },
  {
   "cell_type": "markdown",
   "metadata": {},
   "source": [
    "### Venture"
   ]
  },
  {
   "cell_type": "code",
   "execution_count": 44,
   "metadata": {},
   "outputs": [],
   "source": [
    "# All the investments that correspond to venture\n",
    "venture = master_frame[(master_frame['funding_round_type'] =='venture') & master_frame['raised_amount_usd']]['raised_amount_usd']"
   ]
  },
  {
   "cell_type": "code",
   "execution_count": 45,
   "metadata": {},
   "outputs": [
    {
     "data": {
      "text/plain": [
       "count         35544.00000\n",
       "mean       11700645.63018\n",
       "std       100513510.52341\n",
       "min               1.00000\n",
       "25%         1597089.75000\n",
       "50%         5000000.00000\n",
       "75%        12000000.00000\n",
       "max     17600000000.00000\n",
       "Name: raised_amount_usd, dtype: float64"
      ]
     },
     "execution_count": 45,
     "metadata": {},
     "output_type": "execute_result"
    }
   ],
   "source": [
    "venture.describe()"
   ]
  },
  {
   "cell_type": "code",
   "execution_count": 46,
   "metadata": {},
   "outputs": [
    {
     "data": {
      "text/plain": [
       "261"
      ]
     },
     "execution_count": 46,
     "metadata": {},
     "output_type": "execute_result"
    }
   ],
   "source": [
    "# Number of venture investmenrs that are above 100,000,000\n",
    "len(venture[venture >100000000])"
   ]
  },
  {
   "cell_type": "code",
   "execution_count": 47,
   "metadata": {},
   "outputs": [
    {
     "data": {
      "text/plain": [
       "0.73"
      ]
     },
     "execution_count": 47,
     "metadata": {},
     "output_type": "execute_result"
    }
   ],
   "source": [
    "# Percentage of the number investments above 100000000\n",
    "round(len(venture[venture >100000000]) / len(venture) *100, 2)"
   ]
  },
  {
   "cell_type": "code",
   "execution_count": 48,
   "metadata": {},
   "outputs": [
    {
     "data": {
      "text/plain": [
       "19.64330341229364"
      ]
     },
     "execution_count": 48,
     "metadata": {},
     "output_type": "execute_result"
    }
   ],
   "source": [
    "# percentage of the total investments that are  above 100000000\n",
    "venture[venture >100000000].sum() / venture.sum() *100"
   ]
  },
  {
   "cell_type": "markdown",
   "metadata": {},
   "source": [
    "#### We can see that 0.73% of the number of investments, take up 19.64% of the total investment<br><br>Since we have extreme outliers, the Median is the best representation of the venture investment\n",
    " "
   ]
  },
  {
   "cell_type": "markdown",
   "metadata": {},
   "source": [
    "### <br>Private Equity"
   ]
  },
  {
   "cell_type": "code",
   "execution_count": 49,
   "metadata": {},
   "outputs": [
    {
     "data": {
      "text/plain": [
       "count         1313.00000\n",
       "mean      64969911.34882\n",
       "std      156030896.15023\n",
       "min           1660.00000\n",
       "25%        5280000.00000\n",
       "50%       20000000.00000\n",
       "75%       70000000.00000\n",
       "max     3500000000.00000\n",
       "Name: raised_amount_usd, dtype: float64"
      ]
     },
     "execution_count": 49,
     "metadata": {},
     "output_type": "execute_result"
    }
   ],
   "source": [
    "# All the investments that correspond to private_equity\n",
    "private = master_frame[(master_frame['funding_round_type'] =='private_equity') & master_frame['raised_amount_usd']]['raised_amount_usd']\n",
    "private.describe()"
   ]
  },
  {
   "cell_type": "code",
   "execution_count": 50,
   "metadata": {},
   "outputs": [
    {
     "data": {
      "text/plain": [
       "0.46"
      ]
     },
     "execution_count": 50,
     "metadata": {},
     "output_type": "execute_result"
    }
   ],
   "source": [
    "#Percentage of the number of investments under private_equity above 1000000000\n",
    "round(len(private[private >1000000000]) / len(private) *100, 2)"
   ]
  },
  {
   "cell_type": "code",
   "execution_count": 51,
   "metadata": {},
   "outputs": [
    {
     "data": {
      "text/plain": [
       "12.013898410734782"
      ]
     },
     "execution_count": 51,
     "metadata": {},
     "output_type": "execute_result"
    }
   ],
   "source": [
    "# percentage of the total investments that are  above 100000000\n",
    "private[private >1000000000].sum() / private.sum() *100"
   ]
  },
  {
   "cell_type": "markdown",
   "metadata": {},
   "source": [
    "#### This shows that 0.46%  of the number of investmenrs occupy 12% of the total investmenrs. These are clearly outliers<br><br>Since we have extreme outliers, the Median is the best representation of the private equity\n"
   ]
  },
  {
   "cell_type": "markdown",
   "metadata": {},
   "source": [
    "### <br> Angel"
   ]
  },
  {
   "cell_type": "code",
   "execution_count": 52,
   "metadata": {},
   "outputs": [
    {
     "data": {
      "text/plain": [
       "count       2468.00000\n",
       "mean      858406.33023\n",
       "std      1526080.08457\n",
       "min           12.00000\n",
       "25%       200000.00000\n",
       "50%       500000.00000\n",
       "75%      1000000.00000\n",
       "max     40000000.00000\n",
       "Name: raised_amount_usd, dtype: float64"
      ]
     },
     "execution_count": 52,
     "metadata": {},
     "output_type": "execute_result"
    }
   ],
   "source": [
    "# All the investments that correspond to Angel investment\n",
    "angel = master_frame[(master_frame['funding_round_type'] =='angel') & master_frame['raised_amount_usd']]['raised_amount_usd']\n",
    "angel.describe()"
   ]
  },
  {
   "cell_type": "code",
   "execution_count": 53,
   "metadata": {
    "scrolled": true
   },
   "outputs": [
    {
     "data": {
      "text/plain": [
       "count      2449.00000\n",
       "mean     769854.60433\n",
       "std      900730.56821\n",
       "min          12.00000\n",
       "25%      200000.00000\n",
       "50%      500000.00000\n",
       "75%     1000000.00000\n",
       "max     6850000.00000\n",
       "Name: raised_amount_usd, dtype: float64"
      ]
     },
     "execution_count": 53,
     "metadata": {},
     "output_type": "execute_result"
    }
   ],
   "source": [
    "# We viewing the data without outliers, changes the mean dramatically. \n",
    "angel[angel < 7000000.00000].describe()"
   ]
  },
  {
   "cell_type": "markdown",
   "metadata": {},
   "source": [
    "#### There is a steep rise after the 50th percentile. Also, removing outliers does not dtastically change the mean<br><br>  Mean is the best representation of the investment in Angel"
   ]
  },
  {
   "cell_type": "markdown",
   "metadata": {},
   "source": [
    "\n"
   ]
  },
  {
   "cell_type": "markdown",
   "metadata": {},
   "source": [
    "### <br>Seed "
   ]
  },
  {
   "cell_type": "code",
   "execution_count": 54,
   "metadata": {},
   "outputs": [
    {
     "data": {
      "text/plain": [
       "count       13435.00000\n",
       "mean       833410.88939\n",
       "std       2593049.73607\n",
       "min             1.00000\n",
       "25%        100000.00000\n",
       "50%        400000.00000\n",
       "75%       1100000.00000\n",
       "max     200000000.00000\n",
       "Name: raised_amount_usd, dtype: float64"
      ]
     },
     "execution_count": 54,
     "metadata": {},
     "output_type": "execute_result"
    }
   ],
   "source": [
    "seed = master_frame[(master_frame['funding_round_type'] =='seed') & master_frame['raised_amount_usd']]['raised_amount_usd']\n",
    "seed.describe()"
   ]
  },
  {
   "cell_type": "code",
   "execution_count": 55,
   "metadata": {},
   "outputs": [
    {
     "data": {
      "text/plain": [
       "0.51"
      ]
     },
     "execution_count": 55,
     "metadata": {},
     "output_type": "execute_result"
    }
   ],
   "source": [
    "#Percentage of the number of investments under seed above 6000000\n",
    "round(len(seed[seed >6000000]) / len(seed) *100, 2)"
   ]
  },
  {
   "cell_type": "code",
   "execution_count": 56,
   "metadata": {},
   "outputs": [
    {
     "data": {
      "text/plain": [
       "10.510264994244444"
      ]
     },
     "execution_count": 56,
     "metadata": {},
     "output_type": "execute_result"
    }
   ],
   "source": [
    "# percentage of the total investments that are  above 6000000\n",
    "seed[seed >6000000].sum() / seed.sum() *100"
   ]
  },
  {
   "cell_type": "markdown",
   "metadata": {},
   "source": [
    "####  This shows that 0.85%  of the number of investmenrs occupy 10.5% of the total investmenrs. <br><br> There is a huge increase between 75th percentile and the max. There are extreme outliers<br><br>Median is the best representation of the investment in seed investment<br><br><br>"
   ]
  },
  {
   "cell_type": "markdown",
   "metadata": {},
   "source": [
    "## Most representative of investment type as per Spark Funds criteria"
   ]
  },
  {
   "cell_type": "markdown",
   "metadata": {},
   "source": [
    "#### An analysis of the propotrion of each investment type that falls within 5 million to 15 million"
   ]
  },
  {
   "cell_type": "code",
   "execution_count": 57,
   "metadata": {},
   "outputs": [],
   "source": [
    "# Creating a dataframe by filtering only the 4 relevant investment types\n",
    "df_funds = master_frame[(master_frame['funding_round_type'] == 'venture') | (master_frame['funding_round_type'] == 'seed') | (master_frame['funding_round_type'] == 'angel')| (master_frame['funding_round_type'] == 'private_equity') ]"
   ]
  },
  {
   "cell_type": "code",
   "execution_count": 58,
   "metadata": {},
   "outputs": [
    {
     "data": {
      "text/plain": [
       "funding_round_type  in_range\n",
       "angel               no         98.50081\n",
       "                    yes         1.49919\n",
       "private_equity      no         76.77075\n",
       "                    yes        23.22925\n",
       "seed                no         98.95795\n",
       "                    yes         1.04205\n",
       "venture             no         66.78202\n",
       "                    yes        33.21798\n",
       "Name: in_range, dtype: float64"
      ]
     },
     "execution_count": 58,
     "metadata": {},
     "output_type": "execute_result"
    }
   ],
   "source": [
    "# Calculates the percentage of each of the total number of investments in each investment type that falls with Spark Funds range\n",
    "df_funds.groupby('funding_round_type')['in_range'].value_counts(normalize = True) * 100"
   ]
  },
  {
   "cell_type": "markdown",
   "metadata": {},
   "source": [
    "#### 33.2% of venture capital investments fall within 5 million to 15 million <br><br>23.2% of private equity investments fall within 5 million to 15 million <br><br> 1.4% of angel investments fall within 5 million to 15 million <br><br> 1.04% of seed investments fall within 5 million to 15 million\n"
   ]
  },
  {
   "cell_type": "markdown",
   "metadata": {},
   "source": [
    "### It is clear that the Venture Capital investment is most representative of Spark Funds criteria"
   ]
  },
  {
   "cell_type": "markdown",
   "metadata": {},
   "source": [
    " # <br><br>Country Analysis"
   ]
  },
  {
   "cell_type": "code",
   "execution_count": 59,
   "metadata": {},
   "outputs": [],
   "source": [
    "# Dataframe that consists only of venture investments\n",
    "df_venture = master_frame[master_frame['funding_round_type'] == 'venture']"
   ]
  },
  {
   "cell_type": "code",
   "execution_count": 60,
   "metadata": {},
   "outputs": [],
   "source": [
    "#Groupby of country under venture \n",
    "country_v =  df_venture.groupby('country_code')"
   ]
  },
  {
   "cell_type": "code",
   "execution_count": 61,
   "metadata": {},
   "outputs": [
    {
     "data": {
      "text/plain": [
       "country_code\n",
       "USA   89.21614\n",
       "GBR    4.11770\n",
       "IND    3.18546\n",
       "CAN    1.92498\n",
       "SGP    0.61901\n",
       "IRL    0.38626\n",
       "AUS    0.28154\n",
       "NZL    0.09952\n",
       "ZAF    0.05330\n",
       "NGA    0.03838\n",
       "PHL    0.02733\n",
       "PAK    0.01842\n",
       "KEN    0.01297\n",
       "GHA    0.00750\n",
       "MLT    0.00426\n",
       "KNA    0.00361\n",
       "TTO    0.00204\n",
       "UGA    0.00060\n",
       "BWA    0.00054\n",
       "MUS    0.00036\n",
       "CMR    0.00009\n",
       "Name: raised_amount_usd, dtype: float64"
      ]
     },
     "execution_count": 61,
     "metadata": {},
     "output_type": "execute_result"
    }
   ],
   "source": [
    "# Propotion of Venture capital investment made in each country\n",
    "(country_v['raised_amount_usd'].sum() / (country_v['raised_amount_usd'].sum()).sum() * 100).sort_values(ascending = False)"
   ]
  },
  {
   "cell_type": "code",
   "execution_count": 62,
   "metadata": {},
   "outputs": [
    {
     "data": {
      "text/plain": [
       "[]"
      ]
     },
     "execution_count": 62,
     "metadata": {},
     "output_type": "execute_result"
    },
    {
     "data": {
      "image/png": "[encoded data removed]",
      "text/plain": [
       "<Figure size 864x576 with 1 Axes>"
      ]
     },
     "metadata": {},
     "output_type": "display_data"
    }
   ],
   "source": [
    "# Plot of total investment in each country\n",
    "country_v['raised_amount_usd'].sum().sort_values(ascending = False).plot.bar(figsize =(12,8))\n",
    "plt.title('Total investment in each country', fontsize = 18)\n",
    "plt.xlabel(\"Country\", fontsize = 15, weight = 'bold')\n",
    "plt.ylabel('Investment',fontsize = 15, weight = 'bold')\n",
    "plt.xticks( size='large')\n",
    "plt.plot()"
   ]
  },
  {
   "cell_type": "code",
   "execution_count": 63,
   "metadata": {},
   "outputs": [
    {
     "data": {
      "text/plain": [
       "country_code\n",
       "USA   371038978034.00000\n",
       "GBR    17125001082.00000\n",
       "IND    13247926235.00000\n",
       "CAN     8005745380.00000\n",
       "SGP     2574407291.00000\n",
       "IRL     1606425009.00000\n",
       "AUS     1170894156.00000\n",
       "NZL      413880383.00000\n",
       "ZAF      221663106.00000\n",
       "Name: raised_amount_usd, dtype: float64"
      ]
     },
     "execution_count": 63,
     "metadata": {},
     "output_type": "execute_result"
    }
   ],
   "source": [
    "# Top 9 countries\n",
    "country_v['raised_amount_usd'].sum().sort_values(ascending = False).head(9)"
   ]
  },
  {
   "cell_type": "markdown",
   "metadata": {},
   "source": [
    "#### These are the top 9 countries <br><br><br><br>"
   ]
  },
  {
   "cell_type": "code",
   "execution_count": 64,
   "metadata": {},
   "outputs": [],
   "source": [
    "# Creating a Dataframe called 'top9' that contains the top 9 countries based on investment\n",
    "\n",
    "# list of top 9 countries\n",
    "list9 = country_v['raised_amount_usd'].sum().sort_values(ascending = False).head(9).index\n",
    "\n",
    "# Column to indicate if a country belongs to the top 9 by comparing to the list\n",
    "df_venture['top_9'] = df_venture['country_code'].apply(lambda x : 'yes' if x in list9 else 'no')\n",
    "\n",
    "# df with top9 countries under venture capital investment\n",
    "top9 = df_venture[df_venture['top_9'] == 'yes']"
   ]
  },
  {
   "cell_type": "code",
   "execution_count": 65,
   "metadata": {},
   "outputs": [
    {
     "data": {
      "text/html": [
       "<div>\n",
       "<style scoped>\n",
       "    .dataframe tbody tr th:only-of-type {\n",
       "        vertical-align: middle;\n",
       "    }\n",
       "\n",
       "    .dataframe tbody tr th {\n",
       "        vertical-align: top;\n",
       "    }\n",
       "\n",
       "    .dataframe thead th {\n",
       "        text-align: right;\n",
       "    }\n",
       "</style>\n",
       "<table border=\"1\" class=\"dataframe\">\n",
       "  <thead>\n",
       "    <tr style=\"text-align: right;\">\n",
       "      <th></th>\n",
       "      <th>permalink</th>\n",
       "      <th>name</th>\n",
       "      <th>country_code</th>\n",
       "      <th>funding_round_type</th>\n",
       "      <th>raised_amount_usd</th>\n",
       "      <th>main_sector</th>\n",
       "      <th>in_range</th>\n",
       "      <th>top_9</th>\n",
       "    </tr>\n",
       "  </thead>\n",
       "  <tbody>\n",
       "    <tr>\n",
       "      <th>0</th>\n",
       "      <td>/organization/-fame</td>\n",
       "      <td>#fame</td>\n",
       "      <td>IND</td>\n",
       "      <td>venture</td>\n",
       "      <td>10000000.00000</td>\n",
       "      <td>Entertainment</td>\n",
       "      <td>yes</td>\n",
       "      <td>yes</td>\n",
       "    </tr>\n",
       "    <tr>\n",
       "      <th>1</th>\n",
       "      <td>/organization/90min</td>\n",
       "      <td>90min</td>\n",
       "      <td>GBR</td>\n",
       "      <td>venture</td>\n",
       "      <td>15000000.00000</td>\n",
       "      <td>Entertainment</td>\n",
       "      <td>yes</td>\n",
       "      <td>yes</td>\n",
       "    </tr>\n",
       "    <tr>\n",
       "      <th>2</th>\n",
       "      <td>/organization/90min</td>\n",
       "      <td>90min</td>\n",
       "      <td>GBR</td>\n",
       "      <td>venture</td>\n",
       "      <td>5800000.00000</td>\n",
       "      <td>Entertainment</td>\n",
       "      <td>yes</td>\n",
       "      <td>yes</td>\n",
       "    </tr>\n",
       "    <tr>\n",
       "      <th>3</th>\n",
       "      <td>/organization/90min</td>\n",
       "      <td>90min</td>\n",
       "      <td>GBR</td>\n",
       "      <td>venture</td>\n",
       "      <td>18000000.00000</td>\n",
       "      <td>Entertainment</td>\n",
       "      <td>no</td>\n",
       "      <td>yes</td>\n",
       "    </tr>\n",
       "    <tr>\n",
       "      <th>9</th>\n",
       "      <td>/organization/all-def-digital</td>\n",
       "      <td>All Def Digital</td>\n",
       "      <td>USA</td>\n",
       "      <td>venture</td>\n",
       "      <td>5000000.00000</td>\n",
       "      <td>Entertainment</td>\n",
       "      <td>yes</td>\n",
       "      <td>yes</td>\n",
       "    </tr>\n",
       "    <tr>\n",
       "      <th>...</th>\n",
       "      <td>...</td>\n",
       "      <td>...</td>\n",
       "      <td>...</td>\n",
       "      <td>...</td>\n",
       "      <td>...</td>\n",
       "      <td>...</td>\n",
       "      <td>...</td>\n",
       "      <td>...</td>\n",
       "    </tr>\n",
       "    <tr>\n",
       "      <th>78666</th>\n",
       "      <td>/organization/swajal</td>\n",
       "      <td>Swajal</td>\n",
       "      <td>IND</td>\n",
       "      <td>venture</td>\n",
       "      <td>1200000.00000</td>\n",
       "      <td>Cleantech / Semiconductors</td>\n",
       "      <td>no</td>\n",
       "      <td>yes</td>\n",
       "    </tr>\n",
       "    <tr>\n",
       "      <th>78674</th>\n",
       "      <td>/organization/thisnext</td>\n",
       "      <td>ThisNext</td>\n",
       "      <td>USA</td>\n",
       "      <td>venture</td>\n",
       "      <td>5000000.00000</td>\n",
       "      <td>Social, Finance, Analytics, Advertising</td>\n",
       "      <td>yes</td>\n",
       "      <td>yes</td>\n",
       "    </tr>\n",
       "    <tr>\n",
       "      <th>78676</th>\n",
       "      <td>/organization/thisnext</td>\n",
       "      <td>ThisNext</td>\n",
       "      <td>USA</td>\n",
       "      <td>venture</td>\n",
       "      <td>1199999.00000</td>\n",
       "      <td>Social, Finance, Analytics, Advertising</td>\n",
       "      <td>no</td>\n",
       "      <td>yes</td>\n",
       "    </tr>\n",
       "    <tr>\n",
       "      <th>78677</th>\n",
       "      <td>/organization/thisnext</td>\n",
       "      <td>ThisNext</td>\n",
       "      <td>USA</td>\n",
       "      <td>venture</td>\n",
       "      <td>2500000.00000</td>\n",
       "      <td>Social, Finance, Analytics, Advertising</td>\n",
       "      <td>no</td>\n",
       "      <td>yes</td>\n",
       "    </tr>\n",
       "    <tr>\n",
       "      <th>78682</th>\n",
       "      <td>/organization/user-interface</td>\n",
       "      <td>User Interface</td>\n",
       "      <td>USA</td>\n",
       "      <td>venture</td>\n",
       "      <td>8250000.00000</td>\n",
       "      <td>Others</td>\n",
       "      <td>yes</td>\n",
       "      <td>yes</td>\n",
       "    </tr>\n",
       "  </tbody>\n",
       "</table>\n",
       "<p>35492 rows × 8 columns</p>\n",
       "</div>"
      ],
      "text/plain": [
       "                           permalink             name country_code  \\\n",
       "0                /organization/-fame            #fame          IND   \n",
       "1                /organization/90min            90min          GBR   \n",
       "2                /organization/90min            90min          GBR   \n",
       "3                /organization/90min            90min          GBR   \n",
       "9      /organization/all-def-digital  All Def Digital          USA   \n",
       "...                              ...              ...          ...   \n",
       "78666           /organization/swajal           Swajal          IND   \n",
       "78674         /organization/thisnext         ThisNext          USA   \n",
       "78676         /organization/thisnext         ThisNext          USA   \n",
       "78677         /organization/thisnext         ThisNext          USA   \n",
       "78682   /organization/user-interface   User Interface          USA   \n",
       "\n",
       "      funding_round_type  raised_amount_usd  \\\n",
       "0                venture     10000000.00000   \n",
       "1                venture     15000000.00000   \n",
       "2                venture      5800000.00000   \n",
       "3                venture     18000000.00000   \n",
       "9                venture      5000000.00000   \n",
       "...                  ...                ...   \n",
       "78666            venture      1200000.00000   \n",
       "78674            venture      5000000.00000   \n",
       "78676            venture      1199999.00000   \n",
       "78677            venture      2500000.00000   \n",
       "78682            venture      8250000.00000   \n",
       "\n",
       "                                   main_sector in_range top_9  \n",
       "0                                Entertainment      yes   yes  \n",
       "1                                Entertainment      yes   yes  \n",
       "2                                Entertainment      yes   yes  \n",
       "3                                Entertainment       no   yes  \n",
       "9                                Entertainment      yes   yes  \n",
       "...                                        ...      ...   ...  \n",
       "78666               Cleantech / Semiconductors       no   yes  \n",
       "78674  Social, Finance, Analytics, Advertising      yes   yes  \n",
       "78676  Social, Finance, Analytics, Advertising       no   yes  \n",
       "78677  Social, Finance, Analytics, Advertising       no   yes  \n",
       "78682                                   Others      yes   yes  \n",
       "\n",
       "[35492 rows x 8 columns]"
      ]
     },
     "execution_count": 65,
     "metadata": {},
     "output_type": "execute_result"
    }
   ],
   "source": [
    "top9"
   ]
  },
  {
   "cell_type": "code",
   "execution_count": 66,
   "metadata": {},
   "outputs": [
    {
     "data": {
      "text/plain": [
       "country_code\n",
       "USA   89.21614\n",
       "GBR    4.11770\n",
       "IND    3.18546\n",
       "Name: raised_amount_usd, dtype: float64"
      ]
     },
     "execution_count": 66,
     "metadata": {},
     "output_type": "execute_result"
    }
   ],
   "source": [
    "#Top 3 englishs speaking countries and the proportion of venture capital investment\n",
    "country_v['raised_amount_usd'].sum().sort_values(ascending = False).head(3) / (country_v['raised_amount_usd'].sum()).sum() *100"
   ]
  },
  {
   "cell_type": "markdown",
   "metadata": {},
   "source": [
    "#### These are the top 3 countries <br><br>\n",
    "\n"
   ]
  },
  {
   "cell_type": "markdown",
   "metadata": {},
   "source": [
    "# <br><br><br>Sector Analysis"
   ]
  },
  {
   "cell_type": "markdown",
   "metadata": {},
   "source": [
    "Creating dataframes for each of the top 3 countries with the desired invetment type, and investments that are in Spark Funds investment range"
   ]
  },
  {
   "cell_type": "code",
   "execution_count": 67,
   "metadata": {},
   "outputs": [],
   "source": [
    "# Dataframe of USA\n",
    "d1 = df_venture[(df_venture['country_code'] == 'USA') & (df_venture['in_range'] == 'yes')]"
   ]
  },
  {
   "cell_type": "code",
   "execution_count": 68,
   "metadata": {},
   "outputs": [],
   "source": [
    "# Dataframe of Great Britain\n",
    "d2 = df_venture[(df_venture['country_code'] == 'GBR') & (df_venture['in_range'] == 'yes')]"
   ]
  },
  {
   "cell_type": "code",
   "execution_count": 69,
   "metadata": {},
   "outputs": [],
   "source": [
    "# Dataframe of India\n",
    "d3 = df_venture[(df_venture['country_code'] == 'IND') & (df_venture['in_range'] == 'yes')]"
   ]
  },
  {
   "cell_type": "markdown",
   "metadata": {},
   "source": [
    "### <br> USA"
   ]
  },
  {
   "cell_type": "code",
   "execution_count": 70,
   "metadata": {},
   "outputs": [
    {
     "name": "stdout",
     "output_type": "stream",
     "text": [
      "<class 'pandas.core.frame.DataFrame'>\n",
      "Int64Index: 10404 entries, 9 to 78682\n",
      "Data columns (total 8 columns):\n",
      " #   Column              Non-Null Count  Dtype  \n",
      "---  ------              --------------  -----  \n",
      " 0   permalink           10404 non-null  object \n",
      " 1   name                10404 non-null  object \n",
      " 2   country_code        10404 non-null  object \n",
      " 3   funding_round_type  10404 non-null  object \n",
      " 4   raised_amount_usd   10404 non-null  float64\n",
      " 5   main_sector         10404 non-null  object \n",
      " 6   in_range            10404 non-null  object \n",
      " 7   top_9               10404 non-null  object \n",
      "dtypes: float64(1), object(7)\n",
      "memory usage: 731.5+ KB\n"
     ]
    }
   ],
   "source": [
    "d1.info()"
   ]
  },
  {
   "cell_type": "markdown",
   "metadata": {},
   "source": [
    "#### There are 10404 venture capital investments in USA <br>"
   ]
  },
  {
   "cell_type": "code",
   "execution_count": 71,
   "metadata": {},
   "outputs": [
    {
     "data": {
      "text/plain": [
       "93176222534.0"
      ]
     },
     "execution_count": 71,
     "metadata": {},
     "output_type": "execute_result"
    }
   ],
   "source": [
    "# Total amount of investment in USA (USD)\n",
    "d1['raised_amount_usd'].sum()"
   ]
  },
  {
   "cell_type": "code",
   "execution_count": 72,
   "metadata": {},
   "outputs": [
    {
     "data": {
      "text/plain": [
       "main_sector\n",
       "Others                                    26.20247\n",
       "Cleantech / Semiconductors                21.17482\n",
       "Social, Finance, Analytics, Advertising   17.07057\n",
       "News, Search and Messaging                13.75260\n",
       "Health                                     8.30022\n",
       "Manufacturing                              7.19076\n",
       "Entertainment                              4.83360\n",
       "Automotive & Sports                        1.47495\n",
       "Name: raised_amount_usd, dtype: float64"
      ]
     },
     "execution_count": 72,
     "metadata": {},
     "output_type": "execute_result"
    }
   ],
   "source": [
    "# Proportion of investments across different sectors\n",
    "d1.groupby('main_sector')['raised_amount_usd'].sum().sort_values(ascending = False) / (d1.groupby('main_sector')['raised_amount_usd'].sum()).sum() * 100"
   ]
  },
  {
   "cell_type": "markdown",
   "metadata": {},
   "source": [
    "First  - Others <br>\n",
    "Second - Cleantech / Semiconductors<br>\n",
    "Third  - Social, Finance, Analytics, Advertising<br><br>"
   ]
  },
  {
   "cell_type": "code",
   "execution_count": 73,
   "metadata": {},
   "outputs": [
    {
     "data": {
      "text/plain": [
       "Others                                     2732\n",
       "Cleantech / Semiconductors                 2145\n",
       "Social, Finance, Analytics, Advertising    1813\n",
       "Name: main_sector, dtype: int64"
      ]
     },
     "execution_count": 73,
     "metadata": {},
     "output_type": "execute_result"
    }
   ],
   "source": [
    "# number of investment in the top 3 sectors\n",
    "d1['main_sector'].value_counts().sort_values(ascending = False).head(3)"
   ]
  },
  {
   "cell_type": "code",
   "execution_count": 74,
   "metadata": {},
   "outputs": [
    {
     "data": {
      "text/plain": [
       "[]"
      ]
     },
     "execution_count": 74,
     "metadata": {},
     "output_type": "execute_result"
    },
    {
     "data": {
      "image/png": "[encoded data removed]",
      "text/plain": [
       "<Figure size 864x576 with 1 Axes>"
      ]
     },
     "metadata": {},
     "output_type": "display_data"
    }
   ],
   "source": [
    "#Plot of top sectors in the US\n",
    "\n",
    "d1['main_sector'].value_counts().sort_values(ascending = False).plot.bar(figsize =(12,8))\n",
    "plt.title('Top sectors in USA', fontsize = 18)\n",
    "plt.xlabel(\"Sectors\", fontsize = 15, weight = 'bold')\n",
    "plt.ylabel('Number of Investmenrs',fontsize = 15, weight = 'bold')\n",
    "plt.xticks(rotation=50, horizontalalignment='right', size='large')\n",
    "plt.plot()\n"
   ]
  },
  {
   "cell_type": "code",
   "execution_count": 75,
   "metadata": {},
   "outputs": [
    {
     "data": {
      "text/plain": [
       "permalink\n",
       "/organization/virtustream             64300000.00000\n",
       "/organization/capella                 54968051.00000\n",
       "/organization/airtight-networks       54201907.00000\n",
       "/organization/decarta                 52100000.00000\n",
       "/organization/black-duck-software     51000000.00000\n",
       "                                           ...      \n",
       "/organization/spree-commerce           5000000.00000\n",
       "/organization/coalfire-system          5000000.00000\n",
       "/organization/startforce               5000000.00000\n",
       "/organization/clk-design-automation    5000000.00000\n",
       "/organization/ecwid                    5000000.00000\n",
       "Name: raised_amount_usd, Length: 1879, dtype: float64"
      ]
     },
     "execution_count": 75,
     "metadata": {},
     "output_type": "execute_result"
    }
   ],
   "source": [
    "# From the top sector (count-wise), which company received the highest investment?\n",
    "topus_sector = d1[d1['main_sector'] == 'Others']\n",
    "topus_sector.groupby('permalink')['raised_amount_usd'].sum().sort_values(ascending = False)"
   ]
  },
  {
   "cell_type": "code",
   "execution_count": 76,
   "metadata": {},
   "outputs": [
    {
     "data": {
      "text/plain": [
       "38273    Virtustream\n",
       "Name: name, dtype: object"
      ]
     },
     "execution_count": 76,
     "metadata": {},
     "output_type": "execute_result"
    }
   ],
   "source": [
    "# In the 'Others' sector, Virtustream received the highest investment of 64300000\n",
    "topus_sector[topus_sector['permalink'] == '/organization/virtustream']['name'].head(1)"
   ]
  },
  {
   "cell_type": "code",
   "execution_count": 77,
   "metadata": {},
   "outputs": [
    {
     "data": {
      "text/plain": [
       "permalink\n",
       "/organization/biodesix               75300000.00000\n",
       "/organization/tigo-energy            68739496.00000\n",
       "/organization/forsight-labs          61300001.00000\n",
       "/organization/rheonix                56124758.00000\n",
       "/organization/scienergy              55375423.00000\n",
       "                                          ...      \n",
       "/organization/psylin-neurosciences    5000000.00000\n",
       "/organization/azuray-technologies     5000000.00000\n",
       "/organization/gt-urological           5000000.00000\n",
       "/organization/benchling               5000000.00000\n",
       "/organization/kaai                    5000000.00000\n",
       "Name: raised_amount_usd, Length: 1472, dtype: float64"
      ]
     },
     "execution_count": 77,
     "metadata": {},
     "output_type": "execute_result"
    }
   ],
   "source": [
    "# From the second-best sector (count-wise), which company received the highest investment?\n",
    "clean1 = d1[d1['main_sector'] == 'Cleantech / Semiconductors']\n",
    "clean1.groupby('permalink')['raised_amount_usd'].sum().sort_values(ascending = False)"
   ]
  },
  {
   "cell_type": "code",
   "execution_count": 78,
   "metadata": {},
   "outputs": [
    {
     "data": {
      "text/plain": [
       "7654    Biodesix\n",
       "Name: name, dtype: object"
      ]
     },
     "execution_count": 78,
     "metadata": {},
     "output_type": "execute_result"
    }
   ],
   "source": [
    "# In the 'Cleantech / Semiconductors' sector, Biodesix received the highest investment of 75300000\n",
    "clean1[clean1['permalink'] == '/organization/biodesix']['name'].head(1)"
   ]
  },
  {
   "cell_type": "markdown",
   "metadata": {},
   "source": [
    "### <br> GBR"
   ]
  },
  {
   "cell_type": "code",
   "execution_count": 79,
   "metadata": {},
   "outputs": [
    {
     "name": "stdout",
     "output_type": "stream",
     "text": [
      "<class 'pandas.core.frame.DataFrame'>\n",
      "Int64Index: 542 entries, 1 to 78194\n",
      "Data columns (total 8 columns):\n",
      " #   Column              Non-Null Count  Dtype  \n",
      "---  ------              --------------  -----  \n",
      " 0   permalink           542 non-null    object \n",
      " 1   name                542 non-null    object \n",
      " 2   country_code        542 non-null    object \n",
      " 3   funding_round_type  542 non-null    object \n",
      " 4   raised_amount_usd   542 non-null    float64\n",
      " 5   main_sector         542 non-null    object \n",
      " 6   in_range            542 non-null    object \n",
      " 7   top_9               542 non-null    object \n",
      "dtypes: float64(1), object(7)\n",
      "memory usage: 38.1+ KB\n"
     ]
    }
   ],
   "source": [
    "#Total Number of Investments in GBR\n",
    "d2.info()"
   ]
  },
  {
   "cell_type": "markdown",
   "metadata": {},
   "source": [
    "#### There are 542 venture capital investments in GBR <br>"
   ]
  },
  {
   "cell_type": "code",
   "execution_count": 80,
   "metadata": {},
   "outputs": [
    {
     "data": {
      "text/plain": [
       "4728734985.0"
      ]
     },
     "execution_count": 80,
     "metadata": {},
     "output_type": "execute_result"
    }
   ],
   "source": [
    "# Total amount of investment in GBR (USD)\n",
    "d2['raised_amount_usd'].sum()"
   ]
  },
  {
   "cell_type": "code",
   "execution_count": 81,
   "metadata": {},
   "outputs": [
    {
     "data": {
      "text/plain": [
       "main_sector\n",
       "Others                                    25.15350\n",
       "Cleantech / Semiconductors                21.74005\n",
       "Social, Finance, Analytics, Advertising   16.86727\n",
       "News, Search and Messaging                11.81078\n",
       "Entertainment                              9.35221\n",
       "Manufacturing                              7.26038\n",
       "Health                                     4.28312\n",
       "Automotive & Sports                        3.53269\n",
       "Name: raised_amount_usd, dtype: float64"
      ]
     },
     "execution_count": 81,
     "metadata": {},
     "output_type": "execute_result"
    }
   ],
   "source": [
    "# Proportion of investments across different sectors\n",
    "d2.groupby('main_sector')['raised_amount_usd'].sum().sort_values(ascending = False) / (d2.groupby('main_sector')['raised_amount_usd'].sum()).sum() * 100"
   ]
  },
  {
   "cell_type": "code",
   "execution_count": 82,
   "metadata": {},
   "outputs": [
    {
     "data": {
      "text/plain": [
       "[]"
      ]
     },
     "execution_count": 82,
     "metadata": {},
     "output_type": "execute_result"
    },
    {
     "data": {
      "image/png": "[encoded data removed]",
      "text/plain": [
       "<Figure size 864x576 with 1 Axes>"
      ]
     },
     "metadata": {},
     "output_type": "display_data"
    }
   ],
   "source": [
    "# Proportion of investments across different sectors\n",
    "d2.groupby('main_sector')['raised_amount_usd'].sum().sort_values(ascending = False).plot.bar(figsize =(12,8))\n",
    "plt.title('Top sectors in GBR', fontsize = 18)\n",
    "plt.xlabel(\"Sectors\", fontsize = 15, weight = 'bold')\n",
    "plt.ylabel('Number of Investmenrs',fontsize = 15, weight = 'bold')\n",
    "plt.xticks(rotation=50, horizontalalignment='right', size='large')\n",
    "plt.plot()\n"
   ]
  },
  {
   "cell_type": "code",
   "execution_count": 83,
   "metadata": {},
   "outputs": [
    {
     "data": {
      "text/plain": [
       "permalink\n",
       "/organization/electric-cloud            37000000.00000\n",
       "/organization/sensage                   36250000.00000\n",
       "/organization/silverrail-technologies   29000000.00000\n",
       "/organization/opencloud                 27972766.00000\n",
       "/organization/myoptique-group           27694613.00000\n",
       "                                             ...      \n",
       "/organization/bullguard                  5000000.00000\n",
       "/organization/vector-watch               5000000.00000\n",
       "/organization/bacula-systems             5000000.00000\n",
       "/organization/photobox                   5000000.00000\n",
       "/organization/parcelgenie                5000000.00000\n",
       "Name: raised_amount_usd, Length: 113, dtype: float64"
      ]
     },
     "execution_count": 83,
     "metadata": {},
     "output_type": "execute_result"
    }
   ],
   "source": [
    "# From the top sector (count-wise), which company received the highest investment?\n",
    "topgbr_sector = d2[d2['main_sector'] == 'Others']\n",
    "topgbr_sector.groupby('permalink')['raised_amount_usd'].sum().sort_values(ascending = False)"
   ]
  },
  {
   "cell_type": "code",
   "execution_count": 84,
   "metadata": {},
   "outputs": [
    {
     "data": {
      "text/plain": [
       "2038    Electric Cloud\n",
       "Name: name, dtype: object"
      ]
     },
     "execution_count": 84,
     "metadata": {},
     "output_type": "execute_result"
    }
   ],
   "source": [
    "# In the 'Others' sector, Electric Cloud received the highest investment of 37000000\n",
    "topgbr_sector[topgbr_sector['permalink'] == '/organization/electric-cloud']['name'].head(1)"
   ]
  },
  {
   "cell_type": "code",
   "execution_count": 85,
   "metadata": {},
   "outputs": [
    {
     "data": {
      "text/plain": [
       "permalink\n",
       "/organization/eusa-pharma                                                     35600000.00000\n",
       "/organization/horizon-discovery                                               31353719.00000\n",
       "/organization/f-star-biotechnologische-forschungs-und-entwicklungsges-m-b-h   29132906.00000\n",
       "/organization/elixent                                                         25000000.00000\n",
       "/organization/takeda-cambridge                                                22340000.00000\n",
       "                                                                                   ...      \n",
       "/organization/lamellar-biomedical                                              5301059.00000\n",
       "/organization/mmic-solutions                                                   5250000.00000\n",
       "/organization/flowline                                                         5104587.00000\n",
       "/organization/ignis-energy                                                     5014644.00000\n",
       "/organization/exco-intouch                                                     5000000.00000\n",
       "Name: raised_amount_usd, Length: 94, dtype: float64"
      ]
     },
     "execution_count": 85,
     "metadata": {},
     "output_type": "execute_result"
    }
   ],
   "source": [
    "# From the second-best sector (count-wise), which company received the highest investment?\n",
    "clean2 = d2[d2['main_sector'] == 'Cleantech / Semiconductors']\n",
    "clean2.groupby('permalink')['raised_amount_usd'].sum().sort_values(ascending = False)"
   ]
  },
  {
   "cell_type": "code",
   "execution_count": 86,
   "metadata": {},
   "outputs": [
    {
     "data": {
      "text/plain": [
       "9574    EUSA Pharma\n",
       "Name: name, dtype: object"
      ]
     },
     "execution_count": 86,
     "metadata": {},
     "output_type": "execute_result"
    }
   ],
   "source": [
    "# In the 'Cleantech / Semiconductors' sector, EUSA Pharma received the highest investment of 35600000.00000\n",
    "clean2[clean2['permalink'] == '/organization/eusa-pharma']['name'].head(1)"
   ]
  },
  {
   "cell_type": "markdown",
   "metadata": {},
   "source": [
    "### <br> IND"
   ]
  },
  {
   "cell_type": "code",
   "execution_count": 87,
   "metadata": {},
   "outputs": [
    {
     "name": "stdout",
     "output_type": "stream",
     "text": [
      "<class 'pandas.core.frame.DataFrame'>\n",
      "Int64Index: 287 entries, 0 to 78413\n",
      "Data columns (total 8 columns):\n",
      " #   Column              Non-Null Count  Dtype  \n",
      "---  ------              --------------  -----  \n",
      " 0   permalink           287 non-null    object \n",
      " 1   name                287 non-null    object \n",
      " 2   country_code        287 non-null    object \n",
      " 3   funding_round_type  287 non-null    object \n",
      " 4   raised_amount_usd   287 non-null    float64\n",
      " 5   main_sector         287 non-null    object \n",
      " 6   in_range            287 non-null    object \n",
      " 7   top_9               287 non-null    object \n",
      "dtypes: float64(1), object(7)\n",
      "memory usage: 20.2+ KB\n"
     ]
    }
   ],
   "source": [
    "#Total Number of Investments in GBR\n",
    "d3.info()"
   ]
  },
  {
   "cell_type": "markdown",
   "metadata": {},
   "source": [
    "#### There are 287 venture capital investments in IND <br>"
   ]
  },
  {
   "cell_type": "code",
   "execution_count": 88,
   "metadata": {},
   "outputs": [
    {
     "data": {
      "text/plain": [
       "2569667552.0"
      ]
     },
     "execution_count": 88,
     "metadata": {},
     "output_type": "execute_result"
    }
   ],
   "source": [
    "# Total amount of investment in GBR (USD)\n",
    "d3['raised_amount_usd'].sum()"
   ]
  },
  {
   "cell_type": "code",
   "execution_count": 89,
   "metadata": {},
   "outputs": [
    {
     "data": {
      "text/plain": [
       "main_sector\n",
       "Others                                    36.35838\n",
       "News, Search and Messaging                15.91002\n",
       "Social, Finance, Analytics, Advertising   11.30666\n",
       "Entertainment                             10.58814\n",
       "Manufacturing                              7.81813\n",
       "Cleantech / Semiconductors                 6.43585\n",
       "Health                                     6.25528\n",
       "Automotive & Sports                        5.32754\n",
       "Name: raised_amount_usd, dtype: float64"
      ]
     },
     "execution_count": 89,
     "metadata": {},
     "output_type": "execute_result"
    }
   ],
   "source": [
    "# Proportion of investmenrs across different sectors\n",
    "d3.groupby('main_sector')['raised_amount_usd'].sum().sort_values(ascending = False) / (d3.groupby('main_sector')['raised_amount_usd'].sum()).sum() * 100"
   ]
  },
  {
   "cell_type": "code",
   "execution_count": 90,
   "metadata": {},
   "outputs": [
    {
     "data": {
      "text/plain": [
       "[]"
      ]
     },
     "execution_count": 90,
     "metadata": {},
     "output_type": "execute_result"
    },
    {
     "data": {
      "image/png": "[encoded data removed]",
      "text/plain": [
       "<Figure size 864x576 with 1 Axes>"
      ]
     },
     "metadata": {},
     "output_type": "display_data"
    }
   ],
   "source": [
    "# Plot of Top sectors in India\n",
    "d3.groupby('main_sector')['raised_amount_usd'].sum().sort_values(ascending = False).plot.bar(figsize =(12,8))\n",
    "plt.title('Top sectors in IND', fontsize = 18)\n",
    "plt.xlabel(\"Sectors\", fontsize = 15, weight = 'bold')\n",
    "plt.ylabel('Number of Investmenrs',fontsize = 15, weight = 'bold')\n",
    "plt.xticks(rotation=50, horizontalalignment='right', size='large')\n",
    "plt.plot()\n",
    "\n"
   ]
  },
  {
   "cell_type": "code",
   "execution_count": 91,
   "metadata": {},
   "outputs": [
    {
     "data": {
      "text/plain": [
       "permalink\n",
       "/organization/firstcry-com          39000000.00000\n",
       "/organization/myntra                38000000.00000\n",
       "/organization/commonfloor           32900000.00000\n",
       "/organization/pepperfry-com         28000000.00000\n",
       "/organization/itzcash-card-ltd      25000000.00000\n",
       "                                         ...      \n",
       "/organization/voonik-com             5000000.00000\n",
       "/organization/appsdaily-solutions    5000000.00000\n",
       "/organization/vriti-infocom          5000000.00000\n",
       "/organization/ameyo                  5000000.00000\n",
       "/organization/tastykhana             5000000.00000\n",
       "Name: raised_amount_usd, Length: 81, dtype: float64"
      ]
     },
     "execution_count": 91,
     "metadata": {},
     "output_type": "execute_result"
    }
   ],
   "source": [
    "# From the top sector (count-wise), which company received the highest investment?\n",
    "topind_sector = d3[d3['main_sector'] == 'Others']\n",
    "topind_sector.groupby('permalink')['raised_amount_usd'].sum().sort_values(ascending = False)"
   ]
  },
  {
   "cell_type": "code",
   "execution_count": 92,
   "metadata": {},
   "outputs": [
    {
     "data": {
      "text/plain": [
       "22759    FirstCry.com\n",
       "Name: name, dtype: object"
      ]
     },
     "execution_count": 92,
     "metadata": {},
     "output_type": "execute_result"
    }
   ],
   "source": [
    "# In the 'Others' sector, FirstCry.com received the highest investment of 39000000\n",
    "topind_sector[topind_sector['permalink'] == '/organization/firstcry-com']['name'].head(1)"
   ]
  },
  {
   "cell_type": "code",
   "execution_count": 93,
   "metadata": {},
   "outputs": [
    {
     "data": {
      "text/plain": [
       "permalink\n",
       "/organization/gupshup-technology-india-pvt-ltd   33000000.00000\n",
       "/organization/imimobile                          23000000.00000\n",
       "/organization/sms-gupshup                        22000000.00000\n",
       "Name: raised_amount_usd, dtype: float64"
      ]
     },
     "execution_count": 93,
     "metadata": {},
     "output_type": "execute_result"
    }
   ],
   "source": [
    "# From the second-best sector (count-wise), which company received the highest investment?\n",
    "news1 = d3[d3['main_sector'] == 'News, Search and Messaging']\n",
    "news1.groupby('permalink')['raised_amount_usd'].sum().sort_values(ascending = False).head(3)"
   ]
  },
  {
   "cell_type": "code",
   "execution_count": 94,
   "metadata": {},
   "outputs": [
    {
     "data": {
      "text/plain": [
       "16100    GupShup\n",
       "Name: name, dtype: object"
      ]
     },
     "execution_count": 94,
     "metadata": {},
     "output_type": "execute_result"
    }
   ],
   "source": [
    "# In the 'News, Search and Messaging' sector, GupShup received the highest investment of 33000000\n",
    "news1[news1['permalink'] == '/organization/gupshup-technology-india-pvt-ltd']['name'].head(1)"
   ]
  },
  {
   "cell_type": "markdown",
   "metadata": {},
   "source": [
    "# <br><br><br> Plot"
   ]
  },
  {
   "cell_type": "markdown",
   "metadata": {},
   "source": [
    "## <br><br> Investment Type"
   ]
  },
  {
   "cell_type": "markdown",
   "metadata": {},
   "source": [
    "### A plot showing the total investment of different countries in Venture capital      "
   ]
  },
  {
   "cell_type": "code",
   "execution_count": 95,
   "metadata": {},
   "outputs": [
    {
     "data": {
      "text/plain": [
       "[]"
      ]
     },
     "execution_count": 95,
     "metadata": {},
     "output_type": "execute_result"
    },
    {
     "data": {
      "image/png": "[encoded data removed]",
      "text/plain": [
       "<Figure size 1080x648 with 1 Axes>"
      ]
     },
     "metadata": {},
     "output_type": "display_data"
    }
   ],
   "source": [
    "# A plot showing the proportion of the investments that fall within Spark Funds range within each investment type\n",
    "\n",
    "df_funds['a'] = df_funds['in_range'].apply(lambda x: 1 if x == 'yes' else 0)\n",
    "df_funds['b'] = df_funds['in_range'].apply(lambda x: 0 if x == 'yes' else 1)\n",
    "\n",
    "g = pd.pivot_table(data = df_funds, values = ('a', 'b'), index='funding_round_type')\n",
    "g.plot.bar(stacked = True, colormap ='Accent', figsize = (15,9), fontsize = 12)\n",
    "plt.title('Propotion of Investments between 5 million to 15 millon', fontsize = 18)\n",
    "plt.xlabel(\"Investment Types\", fontsize = 15, weight = 'bold')\n",
    "plt.ylabel('Percentage of investments',fontsize = 15, weight = 'bold')\n",
    "plt.xticks(rotation=50, horizontalalignment='right', size='large')\n",
    "label = ['In Spark Funds Range', 'Out of Range']\n",
    "\n",
    "plt.legend(prop={'size': 12},labels =label )\n",
    "\n",
    "\n",
    "\n",
    "plt.plot()"
   ]
  },
  {
   "cell_type": "markdown",
   "metadata": {},
   "source": [
    "#### This shows that 33% of all investments venture capital investments fall within spark funds range"
   ]
  },
  {
   "cell_type": "markdown",
   "metadata": {},
   "source": [
    "### <br><br><br><br>Total investments in top9 countries"
   ]
  },
  {
   "cell_type": "code",
   "execution_count": 96,
   "metadata": {},
   "outputs": [
    {
     "data": {
      "image/png": "[encoded data removed]",
      "text/plain": [
       "<Figure size 1080x648 with 1 Axes>"
      ]
     },
     "metadata": {},
     "output_type": "display_data"
    }
   ],
   "source": [
    "# plotting the top9 countries that receieved the highst investmenrs within Venture capital\n",
    "\n",
    "gp9_c = top9.groupby(['country_code'] )\n",
    "gp9_c['raised_amount_usd'].sum().plot.bar(colormap ='Accent', figsize = (15,9), fontsize = 12)\n",
    "\n",
    "\n",
    "plt.xlabel(\"Countries\", fontsize = 15, weight = 'bold')\n",
    "plt.ylabel('Funds Raised  (log scale)',fontsize = 15, weight = 'bold')\n",
    "plt.xticks(rotation=50, horizontalalignment='right', size='large')\n",
    "\n",
    "plt.yscale('log')"
   ]
  },
  {
   "cell_type": "markdown",
   "metadata": {},
   "source": [
    "#### *Note -  the graph has been ploted on a log scale <br><br><br>"
   ]
  },
  {
   "cell_type": "markdown",
   "metadata": {},
   "source": [
    "### Top 3 sectors of the top 3 countries on one chart "
   ]
  },
  {
   "cell_type": "code",
   "execution_count": 97,
   "metadata": {},
   "outputs": [
    {
     "data": {
      "image/png": "[encoded data removed]",
      "text/plain": [
       "<Figure size 1440x720 with 1 Axes>"
      ]
     },
     "metadata": {},
     "output_type": "display_data"
    }
   ],
   "source": [
    "#Part of checkpoint 6: Plots  \n",
    "#plot showing the number of investments in the top 3 sectors of the top 3 countries on one chart \n",
    "#(for the chosen investment type FT).\n",
    "\n",
    "df1 = d1[(d1['main_sector'] == 'Others') | (d1['main_sector'] == 'Cleantech / Semiconductors') | (d1['main_sector'] == 'Social, Finance, Analytics, Advertising')]\n",
    "df2 = d2[(d2['main_sector'] == 'Others') | (d2['main_sector'] == 'Cleantech / Semiconductors') | (d2['main_sector'] == 'Social, Finance, Analytics, Advertising')]\n",
    "df3 = d3[(d3['main_sector'] == 'Others') | (d3['main_sector'] == 'News, Search and Messaging') | (d3['main_sector'] == 'Social, Finance, Analytics, Advertising')]\n",
    "\n",
    "frames = [df1, df2, df3]\n",
    "result = pd.concat(frames)\n",
    "plt.figure(figsize=(20, 10))\n",
    "sns.barplot(y='country_code', x='raised_amount_usd', hue=\"main_sector\",  palette = \"Set1\", data=result, estimator=np.sum)\n",
    "plt.title('Top 3 sectors in top 3 countries', fontsize = 18)\n",
    "plt.xlabel(\"Funds Raised\", fontsize = 15, weight = 'bold')\n",
    "plt.ylabel('Countries',fontsize = 15, weight = 'bold')\n",
    "\n",
    "plt.legend(prop={'size': 15})\n",
    "\n",
    "\n",
    "plt.show()"
   ]
  },
  {
   "cell_type": "markdown",
   "metadata": {},
   "source": [
    "# <br><br><br><br>End of Assignment"
   ]
  },
  {
   "cell_type": "markdown",
   "metadata": {},
   "source": [
    "## By Amit Anand"
   ]
  }
 ],
 "metadata": {
  "kernelspec": {
   "display_name": "Python 3",
   "language": "python",
   "name": "python3"
  },
  "language_info": {
   "codemirror_mode": {
    "name": "ipython",
    "version": 3
   },
   "file_extension": ".py",
   "mimetype": "text/x-python",
   "name": "python",
   "nbconvert_exporter": "python",
   "pygments_lexer": "ipython3",
   "version": "3.8.8"
  }
 },
 "nbformat": 4,
 "nbformat_minor": 4
}
